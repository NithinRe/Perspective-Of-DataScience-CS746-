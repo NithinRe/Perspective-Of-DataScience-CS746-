{
 "cells": [
  {
   "cell_type": "markdown",
   "id": "cf4552c7",
   "metadata": {},
   "source": [
    "**INSTRUCTIONS**\n",
    "\n",
    "Every learner should submit his/her own homework solutions. However, you are allowed to discuss the homework with each other– but everyone must submit his/her own solution; you may not copy someone else’s solution.\n",
    "\n",
    "The homework consists of two parts:\n",
    "\n",
    "    1. Data from our lives\n",
    "    2. Variable selection\n",
    "\n",
    "Follow the prompts in the attached jupyter notebook. \n",
    "\n",
    "**We are using the same data as for the previous homework**. Use the version you created called **df2** where you already cleaned, dropped some of the variables and also created the dummy variables.\n",
    "\n",
    "Add markdown cells to your analysis to include your solutions, comments, answers. Add as many cells as you need, for easy readability comment when possible. Hopefully this homework will help you develop skills, make you understand the flow of an EDA, get you ready for individual work.\n",
    "\n",
    "**Note:** This homework has a bonus question, so the highest mark that can be earned is a 105.\n",
    "\n",
    "Submission: Send in both a ipynb and a pdf file of your work.\n",
    "\n",
    "Good luck!\n"
   ]
  },
  {
   "cell_type": "markdown",
   "id": "24d0c393",
   "metadata": {},
   "source": [
    "# 1. Data from our lives:"
   ]
  },
  {
   "cell_type": "markdown",
   "id": "3dd3b2cd",
   "metadata": {},
   "source": [
    "### Describe a situation or problem from your job, everyday life, current events, etc., for which a variable selection/feature reduction would be appropriate."
   ]
  },
  {
   "cell_type": "markdown",
   "id": "0eef2c7c",
   "metadata": {},
   "source": [
    "*Your Answer:*"
   ]
  },
  {
   "cell_type": "markdown",
   "id": "633d7bd9-57b5-41d9-ae66-fe0c1a4b7b37",
   "metadata": {},
   "source": [
    "Beginning of the semester, I enrolled in CS746 a data science-related course. one can teach coding in different languages like R, Python, etc., However, If a professor asks students what is your <b>preferred programming language</b> and professor sends out a form with a question like <b> What is your University Major, Number of courses taken in a semester, Number work experience in a programming language, What is your undergraduate GPA</b> with this professor can do multiclass classification and decide which medium of programming to be taught in that semester."
   ]
  },
  {
   "cell_type": "markdown",
   "id": "9efca705",
   "metadata": {},
   "source": [
    "# 2. Variable selection"
   ]
  },
  {
   "cell_type": "markdown",
   "id": "df663623",
   "metadata": {},
   "source": [
    "In our class so far we covered three types of feature selection techniques. They were: \n",
    "1. Filter methods\n",
    "2. Wrapper methods\n",
    "3. Embedded methods"
   ]
  },
  {
   "cell_type": "markdown",
   "id": "5bc407fc",
   "metadata": {},
   "source": [
    "Use the dataset 'auto_imports1.csv' from our previous homework. More specifically, use the version you created called **df2** where you already cleaned, dropped some of the variables and also created the dummy variables."
   ]
  },
  {
   "cell_type": "code",
   "execution_count": 1,
   "id": "3181bfd3-fc8a-4fd1-8140-069c04d2f25f",
   "metadata": {},
   "outputs": [],
   "source": [
    "from scipy import stats\n",
    "from sklearn.linear_model import LinearRegression\n",
    "from statsmodels.compat import lzip\n",
    "from statsmodels.formula.api import ols\n",
    "from statsmodels.stats.anova import anova_lm\n",
    "from statsmodels.stats.outliers_influence import variance_inflation_factor \n",
    "import matplotlib\n",
    "import matplotlib.pyplot as plt\n",
    "import numpy as np\n",
    "import pandas as pd\n",
    "import seaborn as sns\n",
    "import statsmodels.api as sm\n",
    "%matplotlib inline"
   ]
  },
  {
   "cell_type": "code",
   "execution_count": 2,
   "id": "089151d1-e811-41e6-b47d-15a4177fb7cf",
   "metadata": {},
   "outputs": [
    {
     "data": {
      "text/html": [
       "<div>\n",
       "<style scoped>\n",
       "    .dataframe tbody tr th:only-of-type {\n",
       "        vertical-align: middle;\n",
       "    }\n",
       "\n",
       "    .dataframe tbody tr th {\n",
       "        vertical-align: top;\n",
       "    }\n",
       "\n",
       "    .dataframe thead th {\n",
       "        text-align: right;\n",
       "    }\n",
       "</style>\n",
       "<table border=\"1\" class=\"dataframe\">\n",
       "  <thead>\n",
       "    <tr style=\"text-align: right;\">\n",
       "      <th></th>\n",
       "      <th>fuel_type</th>\n",
       "      <th>body</th>\n",
       "      <th>wheel_base</th>\n",
       "      <th>length</th>\n",
       "      <th>width</th>\n",
       "      <th>heights</th>\n",
       "      <th>curb_weight</th>\n",
       "      <th>engine_type</th>\n",
       "      <th>cylinders</th>\n",
       "      <th>engine_size</th>\n",
       "      <th>bore</th>\n",
       "      <th>stroke</th>\n",
       "      <th>comprassion</th>\n",
       "      <th>horse_power</th>\n",
       "      <th>peak_rpm</th>\n",
       "      <th>city_mpg</th>\n",
       "      <th>highway_mpg</th>\n",
       "      <th>price</th>\n",
       "    </tr>\n",
       "  </thead>\n",
       "  <tbody>\n",
       "    <tr>\n",
       "      <th>0</th>\n",
       "      <td>gas</td>\n",
       "      <td>convertible</td>\n",
       "      <td>88.6</td>\n",
       "      <td>168.8</td>\n",
       "      <td>64.1</td>\n",
       "      <td>48.8</td>\n",
       "      <td>2548</td>\n",
       "      <td>dohc</td>\n",
       "      <td>four</td>\n",
       "      <td>130</td>\n",
       "      <td>3.47</td>\n",
       "      <td>2.68</td>\n",
       "      <td>9.0</td>\n",
       "      <td>111</td>\n",
       "      <td>5000</td>\n",
       "      <td>21</td>\n",
       "      <td>27</td>\n",
       "      <td>13495</td>\n",
       "    </tr>\n",
       "    <tr>\n",
       "      <th>1</th>\n",
       "      <td>gas</td>\n",
       "      <td>convertible</td>\n",
       "      <td>88.6</td>\n",
       "      <td>168.8</td>\n",
       "      <td>64.1</td>\n",
       "      <td>48.8</td>\n",
       "      <td>2548</td>\n",
       "      <td>dohc</td>\n",
       "      <td>four</td>\n",
       "      <td>130</td>\n",
       "      <td>3.47</td>\n",
       "      <td>2.68</td>\n",
       "      <td>9.0</td>\n",
       "      <td>111</td>\n",
       "      <td>5000</td>\n",
       "      <td>21</td>\n",
       "      <td>27</td>\n",
       "      <td>16500</td>\n",
       "    </tr>\n",
       "    <tr>\n",
       "      <th>2</th>\n",
       "      <td>gas</td>\n",
       "      <td>hatchback</td>\n",
       "      <td>94.5</td>\n",
       "      <td>171.2</td>\n",
       "      <td>65.5</td>\n",
       "      <td>52.4</td>\n",
       "      <td>2823</td>\n",
       "      <td>ohcv</td>\n",
       "      <td>six</td>\n",
       "      <td>152</td>\n",
       "      <td>2.68</td>\n",
       "      <td>3.47</td>\n",
       "      <td>9.0</td>\n",
       "      <td>154</td>\n",
       "      <td>5000</td>\n",
       "      <td>19</td>\n",
       "      <td>26</td>\n",
       "      <td>16500</td>\n",
       "    </tr>\n",
       "    <tr>\n",
       "      <th>3</th>\n",
       "      <td>gas</td>\n",
       "      <td>sedan</td>\n",
       "      <td>99.8</td>\n",
       "      <td>176.6</td>\n",
       "      <td>66.2</td>\n",
       "      <td>54.3</td>\n",
       "      <td>2337</td>\n",
       "      <td>ohc</td>\n",
       "      <td>four</td>\n",
       "      <td>109</td>\n",
       "      <td>3.19</td>\n",
       "      <td>3.4</td>\n",
       "      <td>10.0</td>\n",
       "      <td>102</td>\n",
       "      <td>5500</td>\n",
       "      <td>24</td>\n",
       "      <td>30</td>\n",
       "      <td>13950</td>\n",
       "    </tr>\n",
       "    <tr>\n",
       "      <th>4</th>\n",
       "      <td>gas</td>\n",
       "      <td>sedan</td>\n",
       "      <td>99.4</td>\n",
       "      <td>176.6</td>\n",
       "      <td>66.4</td>\n",
       "      <td>54.3</td>\n",
       "      <td>2824</td>\n",
       "      <td>ohc</td>\n",
       "      <td>five</td>\n",
       "      <td>136</td>\n",
       "      <td>3.19</td>\n",
       "      <td>3.4</td>\n",
       "      <td>8.0</td>\n",
       "      <td>115</td>\n",
       "      <td>5500</td>\n",
       "      <td>18</td>\n",
       "      <td>22</td>\n",
       "      <td>17450</td>\n",
       "    </tr>\n",
       "  </tbody>\n",
       "</table>\n",
       "</div>"
      ],
      "text/plain": [
       "  fuel_type         body  wheel_base  length  width  heights  curb_weight  \\\n",
       "0       gas  convertible        88.6   168.8   64.1     48.8         2548   \n",
       "1       gas  convertible        88.6   168.8   64.1     48.8         2548   \n",
       "2       gas    hatchback        94.5   171.2   65.5     52.4         2823   \n",
       "3       gas        sedan        99.8   176.6   66.2     54.3         2337   \n",
       "4       gas        sedan        99.4   176.6   66.4     54.3         2824   \n",
       "\n",
       "  engine_type cylinders  engine_size  bore stroke  comprassion horse_power  \\\n",
       "0        dohc      four          130  3.47   2.68          9.0         111   \n",
       "1        dohc      four          130  3.47   2.68          9.0         111   \n",
       "2        ohcv       six          152  2.68   3.47          9.0         154   \n",
       "3         ohc      four          109  3.19    3.4         10.0         102   \n",
       "4         ohc      five          136  3.19    3.4          8.0         115   \n",
       "\n",
       "  peak_rpm  city_mpg  highway_mpg  price  \n",
       "0     5000        21           27  13495  \n",
       "1     5000        21           27  16500  \n",
       "2     5000        19           26  16500  \n",
       "3     5500        24           30  13950  \n",
       "4     5500        18           22  17450  "
      ]
     },
     "execution_count": 2,
     "metadata": {},
     "output_type": "execute_result"
    }
   ],
   "source": [
    "df =pd.read_csv('auto_imports1.csv') #imports the dataset\n",
    "df.head()"
   ]
  },
  {
   "cell_type": "code",
   "execution_count": 3,
   "id": "10a265ed-1383-4239-9e08-638d2050d971",
   "metadata": {},
   "outputs": [
    {
     "name": "stdout",
     "output_type": "stream",
     "text": [
      "<class 'pandas.core.frame.DataFrame'>\n",
      "RangeIndex: 201 entries, 0 to 200\n",
      "Data columns (total 18 columns):\n",
      " #   Column       Non-Null Count  Dtype  \n",
      "---  ------       --------------  -----  \n",
      " 0   fuel_type    201 non-null    object \n",
      " 1   body         201 non-null    object \n",
      " 2   wheel_base   201 non-null    float64\n",
      " 3   length       201 non-null    float64\n",
      " 4   width        201 non-null    float64\n",
      " 5   heights      201 non-null    float64\n",
      " 6   curb_weight  201 non-null    int64  \n",
      " 7   engine_type  201 non-null    object \n",
      " 8   cylinders    201 non-null    object \n",
      " 9   engine_size  201 non-null    int64  \n",
      " 10  bore         201 non-null    object \n",
      " 11  stroke       201 non-null    object \n",
      " 12  comprassion  201 non-null    float64\n",
      " 13  horse_power  201 non-null    object \n",
      " 14  peak_rpm     201 non-null    object \n",
      " 15  city_mpg     201 non-null    int64  \n",
      " 16  highway_mpg  201 non-null    int64  \n",
      " 17  price        201 non-null    int64  \n",
      "dtypes: float64(5), int64(5), object(8)\n",
      "memory usage: 28.4+ KB\n"
     ]
    }
   ],
   "source": [
    "df.info() #summary of dataset"
   ]
  },
  {
   "cell_type": "code",
   "execution_count": 4,
   "id": "44404b79-3ba1-46e1-9bbb-ead11cfffb7b",
   "metadata": {},
   "outputs": [],
   "source": [
    "df = df.replace(['?'],'NaN') #replaces '?' with 'NaN'"
   ]
  },
  {
   "cell_type": "code",
   "execution_count": 5,
   "id": "5ead3c0f-d986-477b-ac62-936c088b84d8",
   "metadata": {},
   "outputs": [],
   "source": [
    "float_values = {'bore':float,'stroke':float,'horse_power':float,'peak_rpm':float} #assign float values"
   ]
  },
  {
   "cell_type": "code",
   "execution_count": 6,
   "id": "349696c4-41f2-4e88-b6c3-0a35654610b9",
   "metadata": {},
   "outputs": [],
   "source": [
    "df = df.astype(float_values) #typecasting to float64"
   ]
  },
  {
   "cell_type": "code",
   "execution_count": 7,
   "id": "6c4c7383-1c84-4e01-a48f-c699014317d2",
   "metadata": {},
   "outputs": [
    {
     "name": "stdout",
     "output_type": "stream",
     "text": [
      "<class 'pandas.core.frame.DataFrame'>\n",
      "RangeIndex: 201 entries, 0 to 200\n",
      "Data columns (total 18 columns):\n",
      " #   Column       Non-Null Count  Dtype  \n",
      "---  ------       --------------  -----  \n",
      " 0   fuel_type    201 non-null    object \n",
      " 1   body         201 non-null    object \n",
      " 2   wheel_base   201 non-null    float64\n",
      " 3   length       201 non-null    float64\n",
      " 4   width        201 non-null    float64\n",
      " 5   heights      201 non-null    float64\n",
      " 6   curb_weight  201 non-null    int64  \n",
      " 7   engine_type  201 non-null    object \n",
      " 8   cylinders    201 non-null    object \n",
      " 9   engine_size  201 non-null    int64  \n",
      " 10  bore         197 non-null    float64\n",
      " 11  stroke       197 non-null    float64\n",
      " 12  comprassion  201 non-null    float64\n",
      " 13  horse_power  199 non-null    float64\n",
      " 14  peak_rpm     199 non-null    float64\n",
      " 15  city_mpg     201 non-null    int64  \n",
      " 16  highway_mpg  201 non-null    int64  \n",
      " 17  price        201 non-null    int64  \n",
      "dtypes: float64(9), int64(5), object(4)\n",
      "memory usage: 28.4+ KB\n"
     ]
    }
   ],
   "source": [
    "df.info() #summary of dataset after converting some variables from object to float"
   ]
  },
  {
   "cell_type": "code",
   "execution_count": 8,
   "id": "21bc2f96-ae23-4f3a-b636-57a17f83f531",
   "metadata": {},
   "outputs": [
    {
     "data": {
      "text/plain": [
       "(201, 18)"
      ]
     },
     "execution_count": 8,
     "metadata": {},
     "output_type": "execute_result"
    }
   ],
   "source": [
    "df.shape #shape of the data set"
   ]
  },
  {
   "cell_type": "code",
   "execution_count": 9,
   "id": "f3acff18-17a6-47ca-ad18-0d44aec01bfe",
   "metadata": {},
   "outputs": [],
   "source": [
    "df2 = df #creates new dataset"
   ]
  },
  {
   "cell_type": "code",
   "execution_count": 10,
   "id": "51e99721-52de-41b9-82a6-ea01c8ce5618",
   "metadata": {},
   "outputs": [
    {
     "data": {
      "text/html": [
       "<div>\n",
       "<style scoped>\n",
       "    .dataframe tbody tr th:only-of-type {\n",
       "        vertical-align: middle;\n",
       "    }\n",
       "\n",
       "    .dataframe tbody tr th {\n",
       "        vertical-align: top;\n",
       "    }\n",
       "\n",
       "    .dataframe thead th {\n",
       "        text-align: right;\n",
       "    }\n",
       "</style>\n",
       "<table border=\"1\" class=\"dataframe\">\n",
       "  <thead>\n",
       "    <tr style=\"text-align: right;\">\n",
       "      <th></th>\n",
       "      <th>fuel_type</th>\n",
       "      <th>body</th>\n",
       "      <th>wheel_base</th>\n",
       "      <th>length</th>\n",
       "      <th>width</th>\n",
       "      <th>heights</th>\n",
       "      <th>curb_weight</th>\n",
       "      <th>engine_type</th>\n",
       "      <th>cylinders</th>\n",
       "      <th>engine_size</th>\n",
       "      <th>bore</th>\n",
       "      <th>stroke</th>\n",
       "      <th>comprassion</th>\n",
       "      <th>horse_power</th>\n",
       "      <th>peak_rpm</th>\n",
       "      <th>city_mpg</th>\n",
       "      <th>highway_mpg</th>\n",
       "      <th>price</th>\n",
       "    </tr>\n",
       "  </thead>\n",
       "  <tbody>\n",
       "    <tr>\n",
       "      <th>0</th>\n",
       "      <td>gas</td>\n",
       "      <td>convertible</td>\n",
       "      <td>88.6</td>\n",
       "      <td>168.8</td>\n",
       "      <td>64.1</td>\n",
       "      <td>48.8</td>\n",
       "      <td>2548</td>\n",
       "      <td>dohc</td>\n",
       "      <td>four</td>\n",
       "      <td>130</td>\n",
       "      <td>3.47</td>\n",
       "      <td>2.68</td>\n",
       "      <td>9.0</td>\n",
       "      <td>111.0</td>\n",
       "      <td>5000.0</td>\n",
       "      <td>21</td>\n",
       "      <td>27</td>\n",
       "      <td>13495</td>\n",
       "    </tr>\n",
       "    <tr>\n",
       "      <th>1</th>\n",
       "      <td>gas</td>\n",
       "      <td>convertible</td>\n",
       "      <td>88.6</td>\n",
       "      <td>168.8</td>\n",
       "      <td>64.1</td>\n",
       "      <td>48.8</td>\n",
       "      <td>2548</td>\n",
       "      <td>dohc</td>\n",
       "      <td>four</td>\n",
       "      <td>130</td>\n",
       "      <td>3.47</td>\n",
       "      <td>2.68</td>\n",
       "      <td>9.0</td>\n",
       "      <td>111.0</td>\n",
       "      <td>5000.0</td>\n",
       "      <td>21</td>\n",
       "      <td>27</td>\n",
       "      <td>16500</td>\n",
       "    </tr>\n",
       "    <tr>\n",
       "      <th>2</th>\n",
       "      <td>gas</td>\n",
       "      <td>hatchback</td>\n",
       "      <td>94.5</td>\n",
       "      <td>171.2</td>\n",
       "      <td>65.5</td>\n",
       "      <td>52.4</td>\n",
       "      <td>2823</td>\n",
       "      <td>ohcv</td>\n",
       "      <td>six</td>\n",
       "      <td>152</td>\n",
       "      <td>2.68</td>\n",
       "      <td>3.47</td>\n",
       "      <td>9.0</td>\n",
       "      <td>154.0</td>\n",
       "      <td>5000.0</td>\n",
       "      <td>19</td>\n",
       "      <td>26</td>\n",
       "      <td>16500</td>\n",
       "    </tr>\n",
       "    <tr>\n",
       "      <th>3</th>\n",
       "      <td>gas</td>\n",
       "      <td>sedan</td>\n",
       "      <td>99.8</td>\n",
       "      <td>176.6</td>\n",
       "      <td>66.2</td>\n",
       "      <td>54.3</td>\n",
       "      <td>2337</td>\n",
       "      <td>ohc</td>\n",
       "      <td>four</td>\n",
       "      <td>109</td>\n",
       "      <td>3.19</td>\n",
       "      <td>3.40</td>\n",
       "      <td>10.0</td>\n",
       "      <td>102.0</td>\n",
       "      <td>5500.0</td>\n",
       "      <td>24</td>\n",
       "      <td>30</td>\n",
       "      <td>13950</td>\n",
       "    </tr>\n",
       "    <tr>\n",
       "      <th>4</th>\n",
       "      <td>gas</td>\n",
       "      <td>sedan</td>\n",
       "      <td>99.4</td>\n",
       "      <td>176.6</td>\n",
       "      <td>66.4</td>\n",
       "      <td>54.3</td>\n",
       "      <td>2824</td>\n",
       "      <td>ohc</td>\n",
       "      <td>five</td>\n",
       "      <td>136</td>\n",
       "      <td>3.19</td>\n",
       "      <td>3.40</td>\n",
       "      <td>8.0</td>\n",
       "      <td>115.0</td>\n",
       "      <td>5500.0</td>\n",
       "      <td>18</td>\n",
       "      <td>22</td>\n",
       "      <td>17450</td>\n",
       "    </tr>\n",
       "  </tbody>\n",
       "</table>\n",
       "</div>"
      ],
      "text/plain": [
       "  fuel_type         body  wheel_base  length  width  heights  curb_weight  \\\n",
       "0       gas  convertible        88.6   168.8   64.1     48.8         2548   \n",
       "1       gas  convertible        88.6   168.8   64.1     48.8         2548   \n",
       "2       gas    hatchback        94.5   171.2   65.5     52.4         2823   \n",
       "3       gas        sedan        99.8   176.6   66.2     54.3         2337   \n",
       "4       gas        sedan        99.4   176.6   66.4     54.3         2824   \n",
       "\n",
       "  engine_type cylinders  engine_size  bore  stroke  comprassion  horse_power  \\\n",
       "0        dohc      four          130  3.47    2.68          9.0        111.0   \n",
       "1        dohc      four          130  3.47    2.68          9.0        111.0   \n",
       "2        ohcv       six          152  2.68    3.47          9.0        154.0   \n",
       "3         ohc      four          109  3.19    3.40         10.0        102.0   \n",
       "4         ohc      five          136  3.19    3.40          8.0        115.0   \n",
       "\n",
       "   peak_rpm  city_mpg  highway_mpg  price  \n",
       "0    5000.0        21           27  13495  \n",
       "1    5000.0        21           27  16500  \n",
       "2    5000.0        19           26  16500  \n",
       "3    5500.0        24           30  13950  \n",
       "4    5500.0        18           22  17450  "
      ]
     },
     "execution_count": 10,
     "metadata": {},
     "output_type": "execute_result"
    }
   ],
   "source": [
    "df2.head() #snapshot of new dataset df2"
   ]
  },
  {
   "cell_type": "code",
   "execution_count": 11,
   "id": "7cae8654-4faa-4bb0-8543-74ef62369f00",
   "metadata": {},
   "outputs": [],
   "source": [
    "df2 = df2.drop(['body','engine_type','cylinders'], axis=1) #drops 3 variables"
   ]
  },
  {
   "cell_type": "code",
   "execution_count": 12,
   "id": "78bf6d2f-e6c0-4000-910a-f097e38e38fc",
   "metadata": {},
   "outputs": [
    {
     "data": {
      "text/plain": [
       "fuel_type      0\n",
       "wheel_base     0\n",
       "length         0\n",
       "width          0\n",
       "heights        0\n",
       "curb_weight    0\n",
       "engine_size    0\n",
       "bore           4\n",
       "stroke         4\n",
       "comprassion    0\n",
       "horse_power    2\n",
       "peak_rpm       2\n",
       "city_mpg       0\n",
       "highway_mpg    0\n",
       "price          0\n",
       "dtype: int64"
      ]
     },
     "execution_count": 12,
     "metadata": {},
     "output_type": "execute_result"
    }
   ],
   "source": [
    "df2.isnull().sum() #checks null values"
   ]
  },
  {
   "cell_type": "code",
   "execution_count": 13,
   "id": "6ea1595f-657c-40f6-985f-69b578e30111",
   "metadata": {},
   "outputs": [],
   "source": [
    "df2 = df2.dropna() #drops null values"
   ]
  },
  {
   "cell_type": "code",
   "execution_count": 14,
   "id": "6dc914bc-2416-4f10-b202-9257fda70728",
   "metadata": {},
   "outputs": [],
   "source": [
    "df2 = pd.get_dummies(df2, columns = ['fuel_type'], drop_first = True) #creates dummies for fuel_type"
   ]
  },
  {
   "cell_type": "code",
   "execution_count": 15,
   "id": "171aca23-7b8b-4a7b-8cff-805c83362af8",
   "metadata": {},
   "outputs": [
    {
     "name": "stdout",
     "output_type": "stream",
     "text": [
      "<class 'pandas.core.frame.DataFrame'>\n",
      "Int64Index: 195 entries, 0 to 200\n",
      "Data columns (total 15 columns):\n",
      " #   Column         Non-Null Count  Dtype  \n",
      "---  ------         --------------  -----  \n",
      " 0   wheel_base     195 non-null    float64\n",
      " 1   length         195 non-null    float64\n",
      " 2   width          195 non-null    float64\n",
      " 3   heights        195 non-null    float64\n",
      " 4   curb_weight    195 non-null    int64  \n",
      " 5   engine_size    195 non-null    int64  \n",
      " 6   bore           195 non-null    float64\n",
      " 7   stroke         195 non-null    float64\n",
      " 8   comprassion    195 non-null    float64\n",
      " 9   horse_power    195 non-null    float64\n",
      " 10  peak_rpm       195 non-null    float64\n",
      " 11  city_mpg       195 non-null    int64  \n",
      " 12  highway_mpg    195 non-null    int64  \n",
      " 13  price          195 non-null    int64  \n",
      " 14  fuel_type_gas  195 non-null    uint8  \n",
      "dtypes: float64(9), int64(5), uint8(1)\n",
      "memory usage: 23.0 KB\n"
     ]
    }
   ],
   "source": [
    "df2.info() #summary of dataset after dummy variables"
   ]
  },
  {
   "cell_type": "code",
   "execution_count": 16,
   "id": "42eb69b7-f555-4e6d-b4f5-6ccfdc6265cc",
   "metadata": {},
   "outputs": [
    {
     "data": {
      "text/plain": [
       "(195, 15)"
      ]
     },
     "execution_count": 16,
     "metadata": {},
     "output_type": "execute_result"
    }
   ],
   "source": [
    "df2.shape #old shape"
   ]
  },
  {
   "cell_type": "code",
   "execution_count": 17,
   "id": "810baf50-2c3d-4c75-b903-48857963fef9",
   "metadata": {},
   "outputs": [],
   "source": [
    "df2 = df2.drop_duplicates() #drop duplicate values"
   ]
  },
  {
   "cell_type": "code",
   "execution_count": 18,
   "id": "661f597f-032b-430c-bb97-7e0a4e389d6c",
   "metadata": {},
   "outputs": [
    {
     "data": {
      "text/html": [
       "<div>\n",
       "<style scoped>\n",
       "    .dataframe tbody tr th:only-of-type {\n",
       "        vertical-align: middle;\n",
       "    }\n",
       "\n",
       "    .dataframe tbody tr th {\n",
       "        vertical-align: top;\n",
       "    }\n",
       "\n",
       "    .dataframe thead th {\n",
       "        text-align: right;\n",
       "    }\n",
       "</style>\n",
       "<table border=\"1\" class=\"dataframe\">\n",
       "  <thead>\n",
       "    <tr style=\"text-align: right;\">\n",
       "      <th></th>\n",
       "      <th>count</th>\n",
       "      <th>mean</th>\n",
       "      <th>std</th>\n",
       "      <th>min</th>\n",
       "      <th>25%</th>\n",
       "      <th>50%</th>\n",
       "      <th>75%</th>\n",
       "      <th>max</th>\n",
       "    </tr>\n",
       "  </thead>\n",
       "  <tbody>\n",
       "    <tr>\n",
       "      <th>wheel_base</th>\n",
       "      <td>192.0</td>\n",
       "      <td>98.964062</td>\n",
       "      <td>6.153849</td>\n",
       "      <td>86.60</td>\n",
       "      <td>94.5000</td>\n",
       "      <td>97.20</td>\n",
       "      <td>102.40</td>\n",
       "      <td>120.90</td>\n",
       "    </tr>\n",
       "    <tr>\n",
       "      <th>length</th>\n",
       "      <td>192.0</td>\n",
       "      <td>174.443229</td>\n",
       "      <td>12.451618</td>\n",
       "      <td>141.10</td>\n",
       "      <td>166.6750</td>\n",
       "      <td>173.20</td>\n",
       "      <td>184.60</td>\n",
       "      <td>208.10</td>\n",
       "    </tr>\n",
       "    <tr>\n",
       "      <th>width</th>\n",
       "      <td>192.0</td>\n",
       "      <td>65.910417</td>\n",
       "      <td>2.138110</td>\n",
       "      <td>60.30</td>\n",
       "      <td>64.1000</td>\n",
       "      <td>65.50</td>\n",
       "      <td>66.90</td>\n",
       "      <td>72.00</td>\n",
       "    </tr>\n",
       "    <tr>\n",
       "      <th>heights</th>\n",
       "      <td>192.0</td>\n",
       "      <td>53.906250</td>\n",
       "      <td>2.387722</td>\n",
       "      <td>47.80</td>\n",
       "      <td>52.0000</td>\n",
       "      <td>54.10</td>\n",
       "      <td>55.70</td>\n",
       "      <td>59.80</td>\n",
       "    </tr>\n",
       "    <tr>\n",
       "      <th>curb_weight</th>\n",
       "      <td>192.0</td>\n",
       "      <td>2565.140625</td>\n",
       "      <td>526.002275</td>\n",
       "      <td>1488.00</td>\n",
       "      <td>2163.0000</td>\n",
       "      <td>2422.50</td>\n",
       "      <td>2952.50</td>\n",
       "      <td>4066.00</td>\n",
       "    </tr>\n",
       "    <tr>\n",
       "      <th>engine_size</th>\n",
       "      <td>192.0</td>\n",
       "      <td>128.385417</td>\n",
       "      <td>41.588704</td>\n",
       "      <td>61.00</td>\n",
       "      <td>98.0000</td>\n",
       "      <td>120.00</td>\n",
       "      <td>146.00</td>\n",
       "      <td>326.00</td>\n",
       "    </tr>\n",
       "    <tr>\n",
       "      <th>bore</th>\n",
       "      <td>192.0</td>\n",
       "      <td>3.333646</td>\n",
       "      <td>0.271616</td>\n",
       "      <td>2.54</td>\n",
       "      <td>3.1500</td>\n",
       "      <td>3.31</td>\n",
       "      <td>3.59</td>\n",
       "      <td>3.94</td>\n",
       "    </tr>\n",
       "    <tr>\n",
       "      <th>stroke</th>\n",
       "      <td>192.0</td>\n",
       "      <td>3.248594</td>\n",
       "      <td>0.316038</td>\n",
       "      <td>2.07</td>\n",
       "      <td>3.1075</td>\n",
       "      <td>3.29</td>\n",
       "      <td>3.41</td>\n",
       "      <td>4.17</td>\n",
       "    </tr>\n",
       "    <tr>\n",
       "      <th>comprassion</th>\n",
       "      <td>192.0</td>\n",
       "      <td>10.226667</td>\n",
       "      <td>4.084397</td>\n",
       "      <td>7.00</td>\n",
       "      <td>8.5750</td>\n",
       "      <td>9.00</td>\n",
       "      <td>9.40</td>\n",
       "      <td>23.00</td>\n",
       "    </tr>\n",
       "    <tr>\n",
       "      <th>horse_power</th>\n",
       "      <td>192.0</td>\n",
       "      <td>103.395833</td>\n",
       "      <td>38.069096</td>\n",
       "      <td>48.00</td>\n",
       "      <td>70.0000</td>\n",
       "      <td>95.00</td>\n",
       "      <td>116.00</td>\n",
       "      <td>262.00</td>\n",
       "    </tr>\n",
       "    <tr>\n",
       "      <th>peak_rpm</th>\n",
       "      <td>192.0</td>\n",
       "      <td>5093.229167</td>\n",
       "      <td>469.215665</td>\n",
       "      <td>4150.00</td>\n",
       "      <td>4800.0000</td>\n",
       "      <td>5050.00</td>\n",
       "      <td>5500.00</td>\n",
       "      <td>6600.00</td>\n",
       "    </tr>\n",
       "    <tr>\n",
       "      <th>city_mpg</th>\n",
       "      <td>192.0</td>\n",
       "      <td>25.364583</td>\n",
       "      <td>6.435536</td>\n",
       "      <td>13.00</td>\n",
       "      <td>19.0000</td>\n",
       "      <td>25.00</td>\n",
       "      <td>30.00</td>\n",
       "      <td>49.00</td>\n",
       "    </tr>\n",
       "    <tr>\n",
       "      <th>highway_mpg</th>\n",
       "      <td>192.0</td>\n",
       "      <td>30.812500</td>\n",
       "      <td>6.862620</td>\n",
       "      <td>16.00</td>\n",
       "      <td>25.0000</td>\n",
       "      <td>30.00</td>\n",
       "      <td>34.50</td>\n",
       "      <td>54.00</td>\n",
       "    </tr>\n",
       "    <tr>\n",
       "      <th>price</th>\n",
       "      <td>192.0</td>\n",
       "      <td>13332.802083</td>\n",
       "      <td>8088.861657</td>\n",
       "      <td>5118.00</td>\n",
       "      <td>7765.7500</td>\n",
       "      <td>10320.00</td>\n",
       "      <td>16525.75</td>\n",
       "      <td>45400.00</td>\n",
       "    </tr>\n",
       "    <tr>\n",
       "      <th>fuel_type_gas</th>\n",
       "      <td>192.0</td>\n",
       "      <td>0.895833</td>\n",
       "      <td>0.306275</td>\n",
       "      <td>0.00</td>\n",
       "      <td>1.0000</td>\n",
       "      <td>1.00</td>\n",
       "      <td>1.00</td>\n",
       "      <td>1.00</td>\n",
       "    </tr>\n",
       "  </tbody>\n",
       "</table>\n",
       "</div>"
      ],
      "text/plain": [
       "               count          mean          std      min        25%       50%  \\\n",
       "wheel_base     192.0     98.964062     6.153849    86.60    94.5000     97.20   \n",
       "length         192.0    174.443229    12.451618   141.10   166.6750    173.20   \n",
       "width          192.0     65.910417     2.138110    60.30    64.1000     65.50   \n",
       "heights        192.0     53.906250     2.387722    47.80    52.0000     54.10   \n",
       "curb_weight    192.0   2565.140625   526.002275  1488.00  2163.0000   2422.50   \n",
       "engine_size    192.0    128.385417    41.588704    61.00    98.0000    120.00   \n",
       "bore           192.0      3.333646     0.271616     2.54     3.1500      3.31   \n",
       "stroke         192.0      3.248594     0.316038     2.07     3.1075      3.29   \n",
       "comprassion    192.0     10.226667     4.084397     7.00     8.5750      9.00   \n",
       "horse_power    192.0    103.395833    38.069096    48.00    70.0000     95.00   \n",
       "peak_rpm       192.0   5093.229167   469.215665  4150.00  4800.0000   5050.00   \n",
       "city_mpg       192.0     25.364583     6.435536    13.00    19.0000     25.00   \n",
       "highway_mpg    192.0     30.812500     6.862620    16.00    25.0000     30.00   \n",
       "price          192.0  13332.802083  8088.861657  5118.00  7765.7500  10320.00   \n",
       "fuel_type_gas  192.0      0.895833     0.306275     0.00     1.0000      1.00   \n",
       "\n",
       "                    75%       max  \n",
       "wheel_base       102.40    120.90  \n",
       "length           184.60    208.10  \n",
       "width             66.90     72.00  \n",
       "heights           55.70     59.80  \n",
       "curb_weight     2952.50   4066.00  \n",
       "engine_size      146.00    326.00  \n",
       "bore               3.59      3.94  \n",
       "stroke             3.41      4.17  \n",
       "comprassion        9.40     23.00  \n",
       "horse_power      116.00    262.00  \n",
       "peak_rpm        5500.00   6600.00  \n",
       "city_mpg          30.00     49.00  \n",
       "highway_mpg       34.50     54.00  \n",
       "price          16525.75  45400.00  \n",
       "fuel_type_gas      1.00      1.00  "
      ]
     },
     "execution_count": 18,
     "metadata": {},
     "output_type": "execute_result"
    }
   ],
   "source": [
    "df2.describe().T #summary statistics"
   ]
  },
  {
   "cell_type": "markdown",
   "id": "43e6f8f4",
   "metadata": {},
   "source": [
    "### 2.1. Filtered methods\n",
    "\n",
    "Choose one (you may do more, one is required) of the filtered methods to conduct variable selection. Report your findigs"
   ]
  },
  {
   "cell_type": "markdown",
   "id": "e83f31b2-8170-4b19-842a-f2a10cc39598",
   "metadata": {},
   "source": [
    "<h3> Univariate feature selection. </h3>"
   ]
  },
  {
   "cell_type": "markdown",
   "id": "ce5f69be",
   "metadata": {},
   "source": [
    "In univariate I am choosing SeleckKBest feature selection, it removes all but highest <b> K</b> scoring features."
   ]
  },
  {
   "cell_type": "code",
   "execution_count": 19,
   "id": "bbba7a18",
   "metadata": {},
   "outputs": [],
   "source": [
    "from sklearn.feature_selection import SelectKBest\n",
    "from sklearn.feature_selection import chi2, f_regression\n",
    "from sklearn.feature_selection import SelectPercentile, chi2"
   ]
  },
  {
   "cell_type": "code",
   "execution_count": 20,
   "id": "c7c461c2-eb9e-4437-9445-4f033ed87fa8",
   "metadata": {},
   "outputs": [],
   "source": [
    "traget = 'price' #dependent varible"
   ]
  },
  {
   "cell_type": "code",
   "execution_count": 21,
   "id": "d192e5b1-f8ab-49ff-a5fe-db0f9adba17a",
   "metadata": {},
   "outputs": [],
   "source": [
    "x = df2.loc[:,df2.columns != traget] #Dataset without dependent variable"
   ]
  },
  {
   "cell_type": "code",
   "execution_count": 22,
   "id": "b4f6e70d-c50a-4154-8e3e-c7da81702080",
   "metadata": {},
   "outputs": [],
   "source": [
    "y = df2.loc[:,traget] #Dataset without independent variables"
   ]
  },
  {
   "cell_type": "code",
   "execution_count": 23,
   "id": "a05b74fd-6be7-4aad-9db8-0a555a3c7d1a",
   "metadata": {},
   "outputs": [
    {
     "name": "stdout",
     "output_type": "stream",
     "text": [
      "Feature data dimension: (192, 14)\n"
     ]
    }
   ],
   "source": [
    "print('Feature data dimension:', x.shape) #dimension of data without target variable"
   ]
  },
  {
   "cell_type": "markdown",
   "id": "11461e29",
   "metadata": {},
   "source": [
    "Now we have 14 variables."
   ]
  },
  {
   "cell_type": "code",
   "execution_count": 24,
   "id": "9ff42c3b-c62c-48ce-8b44-cc6987d0189d",
   "metadata": {},
   "outputs": [],
   "source": [
    "select = SelectKBest(score_func=chi2, k=6) #ScoreFunction is ChiSquare, & K=6"
   ]
  },
  {
   "cell_type": "code",
   "execution_count": 25,
   "id": "07b77782-85f7-4c10-bb0c-d74265c876b3",
   "metadata": {},
   "outputs": [],
   "source": [
    "z = select.fit_transform(x,y) #Fits the model"
   ]
  },
  {
   "cell_type": "code",
   "execution_count": 26,
   "id": "5ecb53ac-99b6-4f41-9e40-73d0dac46f18",
   "metadata": {},
   "outputs": [
    {
     "name": "stdout",
     "output_type": "stream",
     "text": [
      "After selecting best 6 features: (192, 6)\n"
     ]
    }
   ],
   "source": [
    "print(\"After selecting best 6 features:\", z.shape)  #returns best high K scoring variables"
   ]
  },
  {
   "cell_type": "code",
   "execution_count": 27,
   "id": "081d1e1f-51b6-4015-9b2a-437bd34d04fb",
   "metadata": {},
   "outputs": [],
   "source": [
    "array = x.columns #assigning variable names to array"
   ]
  },
  {
   "cell_type": "code",
   "execution_count": 28,
   "id": "76f296ea-9156-4d80-9b1c-d87ecf0d36c7",
   "metadata": {},
   "outputs": [],
   "source": [
    "filter = select.get_support() #filter method"
   ]
  },
  {
   "cell_type": "code",
   "execution_count": 29,
   "id": "32972590-5de8-4308-bc88-8dc8f909bf28",
   "metadata": {},
   "outputs": [],
   "source": [
    "features = np.asarray(array) #convert list string to array"
   ]
  },
  {
   "cell_type": "code",
   "execution_count": 30,
   "id": "dcf842c4-a925-4887-8775-9c340a9137a4",
   "metadata": {},
   "outputs": [
    {
     "name": "stdout",
     "output_type": "stream",
     "text": [
      "All features:\n",
      "['wheel_base' 'length' 'width' 'heights' 'curb_weight' 'engine_size'\n",
      " 'bore' 'stroke' 'comprassion' 'horse_power' 'peak_rpm' 'city_mpg'\n",
      " 'highway_mpg' 'fuel_type_gas']\n"
     ]
    }
   ],
   "source": [
    "print(\"All features:\") #prints all feature before K Selection.\n",
    "print(features)"
   ]
  },
  {
   "cell_type": "code",
   "execution_count": 31,
   "id": "a21a3d98-e49b-4a7a-a5b8-eb1d8b205925",
   "metadata": {},
   "outputs": [
    {
     "name": "stdout",
     "output_type": "stream",
     "text": [
      "Selected best 6:\n",
      "['curb_weight' 'engine_size' 'comprassion' 'horse_power' 'peak_rpm'\n",
      " 'city_mpg']\n"
     ]
    }
   ],
   "source": [
    "print(\"Selected best 6:\")\n",
    "print(features[filter]) #prints 6 best features"
   ]
  },
  {
   "cell_type": "markdown",
   "id": "47aefbd8",
   "metadata": {},
   "source": [
    "According to Fliter Methods <b> Curb Weight, Engine Size, Comprassion, Horse Power, Peak RPM, City MPG </b> are high <b>K</b> scoring features. As we know Fliter Methods just a sneakpeek to add or removal of irrelevant features without using any machine learning algorithms. So, Lets' check with others methods too."
   ]
  },
  {
   "cell_type": "markdown",
   "id": "e0cdd874",
   "metadata": {},
   "source": [
    "### 2.2. Wrapper methods\n",
    "\n",
    "Choose one (you may do more, one is required) of the wrapper methods to conduct variable selection. Report your findigs."
   ]
  },
  {
   "cell_type": "code",
   "execution_count": 32,
   "id": "d8484623",
   "metadata": {},
   "outputs": [],
   "source": [
    "from mlxtend.feature_selection import SequentialFeatureSelector as SFS\n",
    "from sklearn.linear_model import LinearRegression"
   ]
  },
  {
   "cell_type": "code",
   "execution_count": 33,
   "id": "bd8a12a9-ad07-4c3c-9b39-b5a38eab7bbf",
   "metadata": {},
   "outputs": [
    {
     "data": {
      "text/plain": [
       "('width', 'engine_size', 'stroke', 'horse_power', 'peak_rpm', 'fuel_type_gas')"
      ]
     },
     "execution_count": 33,
     "metadata": {},
     "output_type": "execute_result"
    }
   ],
   "source": [
    "# Sequential Forward Selection(sfs)\n",
    "sfs = SFS(LinearRegression(),\n",
    "          k_features=6,\n",
    "          forward=True,\n",
    "          floating=False, \n",
    "          scoring = 'r2', \n",
    "          cv = 0)\n",
    "sfs.fit(x, y) \n",
    "sfs.k_feature_names_ # to get the final set of features"
   ]
  },
  {
   "cell_type": "code",
   "execution_count": 34,
   "id": "63ead647",
   "metadata": {},
   "outputs": [
    {
     "data": {
      "text/plain": [
       "('width', 'engine_size', 'stroke', 'horse_power', 'peak_rpm', 'fuel_type_gas')"
      ]
     },
     "execution_count": 34,
     "metadata": {},
     "output_type": "execute_result"
    }
   ],
   "source": [
    "#Sequential backward selection(sbs)\n",
    "sbs = SFS(LinearRegression(),\n",
    "          k_features=6,\n",
    "          forward=False,\n",
    "          floating=False,\n",
    "          cv=0)\n",
    "sbs.fit(x, y)\n",
    "sbs.k_feature_names_"
   ]
  },
  {
   "cell_type": "markdown",
   "id": "e20e1a84",
   "metadata": {},
   "source": [
    "As per both sequential forward selection and backward elimination <b> width, engine_size, stroke, horse_power, peak_rpm, fuel_type_gas </b> are significant features."
   ]
  },
  {
   "cell_type": "markdown",
   "id": "25ea9f19",
   "metadata": {},
   "source": [
    "Here we are directly using the optimal value of k_features argument in both forward selection and backward elimination. In order to find out the optimal number of significant features, we can use the hit and trial method for different values of k_features and make the final decision by plotting it against the model performance"
   ]
  },
  {
   "cell_type": "code",
   "execution_count": 35,
   "id": "f77ece7c",
   "metadata": {},
   "outputs": [
    {
     "data": {
      "text/plain": [
       "SequentialFeatureSelector(cv=0, estimator=LinearRegression(),\n",
       "                          k_features=(1, 14))"
      ]
     },
     "execution_count": 35,
     "metadata": {},
     "output_type": "execute_result"
    }
   ],
   "source": [
    "sfs1 = SFS(LinearRegression(),\n",
    "           k_features=(1,14),\n",
    "           forward=True,\n",
    "           floating=False,\n",
    "           cv=0)\n",
    "sfs1.fit(x, y)"
   ]
  },
  {
   "cell_type": "code",
   "execution_count": 36,
   "id": "eff52ed6",
   "metadata": {},
   "outputs": [
    {
     "name": "stderr",
     "output_type": "stream",
     "text": [
      "/Users/nithinreddynagapur/opt/anaconda3/lib/python3.9/site-packages/numpy/core/_methods.py:261: RuntimeWarning: Degrees of freedom <= 0 for slice\n",
      "  ret = _var(a, axis=axis, dtype=dtype, out=out, ddof=ddof,\n",
      "/Users/nithinreddynagapur/opt/anaconda3/lib/python3.9/site-packages/numpy/core/_methods.py:253: RuntimeWarning: invalid value encountered in double_scalars\n",
      "  ret = ret.dtype.type(ret / rcount)\n"
     ]
    },
    {
     "data": {
      "image/png": "[encoded data removed]",
      "text/plain": [
       "<Figure size 432x288 with 1 Axes>"
      ]
     },
     "metadata": {
      "needs_background": "light"
     },
     "output_type": "display_data"
    }
   ],
   "source": [
    "from mlxtend.plotting import plot_sequential_feature_selection as plot_sfs \n",
    "import matplotlib.pyplot as plt\n",
    "fig1 = plot_sfs(sfs1.get_metric_dict(), kind='std_dev')\n",
    "plt.title('Sequential Forward Selection (w. StdErr)')\n",
    "plt.grid()\n",
    "plt.show()"
   ]
  },
  {
   "cell_type": "markdown",
   "id": "6d822fbd",
   "metadata": {},
   "source": [
    "According to the graph performance is increasing with increase in variables. when it has 1 feature it has lowest performance whereas when it has 14 features it has highest performance."
   ]
  },
  {
   "cell_type": "markdown",
   "id": "501663f3",
   "metadata": {},
   "source": [
    "### 2.3. Embedded methods\n",
    "\n",
    "Choose one (you may do more, one is required) of the embedded methods to conduct variable selection. Report your findigs."
   ]
  },
  {
   "cell_type": "code",
   "execution_count": 37,
   "id": "86c706ff",
   "metadata": {},
   "outputs": [],
   "source": [
    "from sklearn.model_selection import train_test_split \n",
    "from sklearn.linear_model import LinearRegression"
   ]
  },
  {
   "cell_type": "code",
   "execution_count": 38,
   "id": "e9f657dd-d8d5-4c3f-803e-297a9d964ae4",
   "metadata": {},
   "outputs": [
    {
     "name": "stdout",
     "output_type": "stream",
     "text": [
      "Train data shape of X = (144, 14)and Y = (144,) : \n",
      "Test data shape of X = (48, 14) and Y = (48,) : \n"
     ]
    }
   ],
   "source": [
    "x_train, x_test, y_train, y_test = train_test_split( x, y, test_size = 0.25)\n",
    "print(\"Train data shape of X = {}and Y = {} : \".format( x_train.shape, y_train.shape))\n",
    "print(\"Test data shape of X = {} and Y = {} : \".format( x_test.shape, y_test.shape))"
   ]
  },
  {
   "cell_type": "code",
   "execution_count": 39,
   "id": "26b9a364-445b-4dcb-91cf-3526cd77ce09",
   "metadata": {},
   "outputs": [
    {
     "name": "stdout",
     "output_type": "stream",
     "text": [
      "                            OLS Regression Results                            \n",
      "==============================================================================\n",
      "Dep. Variable:                  price   R-squared:                       0.864\n",
      "Model:                            OLS   Adj. R-squared:                  0.849\n",
      "Method:                 Least Squares   F-statistic:                     58.41\n",
      "Date:                Sun, 10 Apr 2022   Prob (F-statistic):           8.48e-49\n",
      "Time:                        19:47:01   Log-Likelihood:                -1359.7\n",
      "No. Observations:                 144   AIC:                             2749.\n",
      "Df Residuals:                     129   BIC:                             2794.\n",
      "Df Model:                          14                                         \n",
      "Covariance Type:            nonrobust                                         \n",
      "=================================================================================\n",
      "                    coef    std err          t      P>|t|      [0.025      0.975]\n",
      "---------------------------------------------------------------------------------\n",
      "const         -3.985e+04   2.34e+04     -1.701      0.091   -8.62e+04    6514.712\n",
      "wheel_base       14.2500    125.285      0.114      0.910    -233.630     262.130\n",
      "length          -39.6283     69.919     -0.567      0.572    -177.966      98.709\n",
      "width           732.8650    316.448      2.316      0.022     106.764    1358.966\n",
      "heights         271.5644    164.501      1.651      0.101     -53.905     597.033\n",
      "curb_weight       1.1581      2.010      0.576      0.566      -2.819       5.135\n",
      "engine_size     133.5962     17.860      7.480      0.000      98.259     168.933\n",
      "bore           -955.2518   1401.179     -0.682      0.497   -3727.519    1817.015\n",
      "stroke        -3530.7595   1052.604     -3.354      0.001   -5613.362   -1448.157\n",
      "comprassion   -1092.5183    535.269     -2.041      0.043   -2151.561     -33.476\n",
      "horse_power      28.5069     21.490      1.327      0.187     -14.011      71.025\n",
      "peak_rpm          2.3367      0.804      2.908      0.004       0.747       3.927\n",
      "city_mpg       -200.3350    210.734     -0.951      0.344    -617.277     216.607\n",
      "highway_mpg     258.8514    197.819      1.309      0.193    -132.538     650.241\n",
      "fuel_type_gas -1.807e+04   7200.251     -2.509      0.013   -3.23e+04   -3822.202\n",
      "==============================================================================\n",
      "Omnibus:                       16.079   Durbin-Watson:                   2.003\n",
      "Prob(Omnibus):                  0.000   Jarque-Bera (JB):               37.869\n",
      "Skew:                           0.399   Prob(JB):                     5.98e-09\n",
      "Kurtosis:                       5.382   Cond. No.                     5.04e+05\n",
      "==============================================================================\n",
      "\n",
      "Notes:\n",
      "[1] Standard Errors assume that the covariance matrix of the errors is correctly specified.\n",
      "[2] The condition number is large, 5.04e+05. This might indicate that there are\n",
      "strong multicollinearity or other numerical problems.\n"
     ]
    },
    {
     "name": "stderr",
     "output_type": "stream",
     "text": [
      "/Users/nithinreddynagapur/opt/anaconda3/lib/python3.9/site-packages/statsmodels/tsa/tsatools.py:142: FutureWarning: In a future version of pandas all arguments of concat except for the argument 'objs' will be keyword-only\n",
      "  x = pd.concat(x[::order], 1)\n"
     ]
    }
   ],
   "source": [
    "from sklearn import datasets, linear_model\n",
    "from sklearn.linear_model import LinearRegression \n",
    "import statsmodels.api as sm\n",
    "from scipy import stats\n",
    "\n",
    "X2 = sm.add_constant(x_train)\n",
    "est = sm.OLS(y_train, X2)\n",
    "est2 = est.fit()\n",
    "print(est2.summary())"
   ]
  },
  {
   "cell_type": "code",
   "execution_count": 40,
   "id": "94e26431",
   "metadata": {},
   "outputs": [
    {
     "name": "stdout",
     "output_type": "stream",
     "text": [
      "9109482.145508042\n",
      "          Columns  Coefficient Estimate\n",
      "0      wheel_base             54.427993\n",
      "1          length            -72.376488\n",
      "2           width            716.017359\n",
      "3         heights            266.327193\n",
      "4     curb_weight              1.814793\n",
      "5     engine_size            121.036547\n",
      "6            bore           -287.904715\n",
      "7          stroke          -2441.191949\n",
      "8     comprassion             12.211609\n",
      "9     horse_power             29.990991\n",
      "10       peak_rpm              1.899293\n",
      "11       city_mpg           -199.612011\n",
      "12    highway_mpg            198.087748\n",
      "13  fuel_type_gas          -2892.662962\n"
     ]
    }
   ],
   "source": [
    "# import ridge regression from sklearn library\n",
    "from sklearn.linear_model import Ridge\n",
    "\n",
    "# Train the model\n",
    "ridgeR = Ridge(alpha = 1)\n",
    "ridgeR.fit(x_train, y_train)\n",
    "y_pred = ridgeR.predict(x_test)\n",
    "\n",
    "# calculate mean square error\n",
    "mean_squared_error_ridge = np.mean((y_pred - y_test)**2)\n",
    "print(mean_squared_error_ridge)\n",
    "\n",
    "# get ridge coefficient and print them\n",
    "ridge_coefficient = pd.DataFrame()\n",
    "ridge_coefficient[\"Columns\"]= x_train.columns\n",
    "ridge_coefficient['Coefficient Estimate'] = pd.Series(ridgeR.coef_)\n",
    "print(ridge_coefficient)"
   ]
  },
  {
   "cell_type": "markdown",
   "id": "e22acf58",
   "metadata": {},
   "source": [
    "From the above method Width, Engine Size, Storke, Horse Power, Peak RPM are siginificant features with a confidence interval of 95% and alpha value is 5%."
   ]
  },
  {
   "cell_type": "markdown",
   "id": "1a783fec",
   "metadata": {},
   "source": [
    "### 2.4. Compare your results\n",
    "Compare your results from the three methods and also compare the coefficients to the full linear regression model (model1) from the previous homework."
   ]
  },
  {
   "cell_type": "markdown",
   "id": "e91ec356",
   "metadata": {},
   "source": [
    "From all the three methods they have small differences selecting the best sigificant features.\n",
    "1. Filter Method : Curb Weight, Engine Size, Comprassion, Horse Power, Peak RPM, City MPG.\n",
    "2. Wrapper Method : Width, Engine Size, Stroke, Horse power, peak rpm, fuel_type_gas.\n",
    "3. Embedded Method : Width, Engine Size, Stroke, Horse power, peak rpm.\n",
    "\n",
    "We can see that Width, Engine Size, Stroke, Horse power, peak rpm are siginificant features. However, choosing a significant feature depends upon domain knowledge and expertise."
   ]
  },
  {
   "cell_type": "markdown",
   "id": "6be87255",
   "metadata": {},
   "source": [
    "### 2.5 Bonus question (*extra 5 points*)"
   ]
  },
  {
   "cell_type": "markdown",
   "id": "8a03d112",
   "metadata": {},
   "source": [
    "Reduce your features with PCA. Run a regression with the chosen number of PCA's, report your findings."
   ]
  },
  {
   "cell_type": "markdown",
   "id": "8f2b5295",
   "metadata": {},
   "source": [
    "1. PCA technique is particularly useful in processing data where multi-colinearity exists between the features/variables.\n",
    "2. PCA can be used when the dimensions of the input features are high (e.g. a lot of variables).\n",
    "3. PCA can be also used for denoising and data compression."
   ]
  },
  {
   "cell_type": "code",
   "execution_count": 44,
   "id": "2cff055c",
   "metadata": {},
   "outputs": [],
   "source": [
    "from sklearn.decomposition import PCA\n",
    "from sklearn.preprocessing import StandardScaler"
   ]
  },
  {
   "cell_type": "code",
   "execution_count": 45,
   "id": "cbf4261d-67bb-4ab4-a515-0df7c81c6d64",
   "metadata": {},
   "outputs": [
    {
     "data": {
      "text/plain": [
       "array([[-1.6885625 , -0.45439741, -0.84895065, ..., -0.67997353,\n",
       "        -0.55699827,  0.34099717],\n",
       "       [-1.6885625 , -0.45439741, -0.84895065, ..., -0.67997353,\n",
       "        -0.55699827,  0.34099717],\n",
       "       [-0.72730636, -0.26114745, -0.19245487, ..., -0.99156045,\n",
       "        -0.70309618,  0.34099717],\n",
       "       ...,\n",
       "       [ 1.65139529,  1.15601887,  1.40189204, ..., -1.14735391,\n",
       "        -1.1413899 ,  0.34099717],\n",
       "       [ 1.65139529,  1.15601887,  1.40189204, ...,  0.09899376,\n",
       "        -0.55699827, -2.93257566],\n",
       "       [ 1.65139529,  1.15601887,  1.40189204, ..., -0.99156045,\n",
       "        -0.84919409,  0.34099717]])"
      ]
     },
     "execution_count": 45,
     "metadata": {},
     "output_type": "execute_result"
    }
   ],
   "source": [
    "scaler = StandardScaler()\n",
    "X_scaled = scaler.fit_transform(x)\n",
    "X_scaled"
   ]
  },
  {
   "cell_type": "code",
   "execution_count": 64,
   "id": "95b7fd60-1e3c-48d5-921c-ddcfd890d8eb",
   "metadata": {},
   "outputs": [
    {
     "data": {
      "text/plain": [
       "(192, 6)"
      ]
     },
     "execution_count": 64,
     "metadata": {},
     "output_type": "execute_result"
    }
   ],
   "source": [
    "pca = PCA(n_components=6)\n",
    "X_pca = pca.fit_transform(x)\n",
    "X_pca.shape"
   ]
  },
  {
   "cell_type": "code",
   "execution_count": 65,
   "id": "0f056e3c-a54b-4559-a819-dd7276414e42",
   "metadata": {},
   "outputs": [
    {
     "data": {
      "text/plain": [
       "0.7838996260465899"
      ]
     },
     "execution_count": 65,
     "metadata": {},
     "output_type": "execute_result"
    }
   ],
   "source": [
    "X_train_pca, X_test_pca, y_train, y_test = train_test_split(X_pca, y, test_size=0.2, random_state=30)\n",
    "model = LinearRegression()\n",
    "model.fit(X_train_pca, y_train)\n",
    "model.score(X_test_pca, y_test)"
   ]
  },
  {
   "cell_type": "markdown",
   "id": "01e0b25c-eb46-4dfd-a242-bbb1e5bc7e7a",
   "metadata": {},
   "source": [
    "After doing PCA with regression we got a model score of 78% which is not a bad score actually."
   ]
  },
  {
   "cell_type": "markdown",
   "id": "b39f1a01-9f50-4007-b87e-bfaf32ccf85f",
   "metadata": {},
   "source": [
    "## Reference"
   ]
  },
  {
   "cell_type": "markdown",
   "id": "fa9d10c5-54f3-487d-a81b-40add6785498",
   "metadata": {},
   "source": [
    "1. CS746 Feature Selection Pdf\n",
    "3. Youtube (Related methods)"
   ]
  }
 ],
 "metadata": {
  "kernelspec": {
   "display_name": "Python 3 (ipykernel)",
   "language": "python",
   "name": "python3"
  },
  "language_info": {
   "codemirror_mode": {
    "name": "ipython",
    "version": 3
   },
   "file_extension": ".py",
   "mimetype": "text/x-python",
   "name": "python",
   "nbconvert_exporter": "python",
   "pygments_lexer": "ipython3",
   "version": "3.9.7"
  }
 },
 "nbformat": 4,
 "nbformat_minor": 5
}
