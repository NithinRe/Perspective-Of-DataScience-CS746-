{
 "cells": [
  {
   "cell_type": "markdown",
   "id": "a48b00fe",
   "metadata": {},
   "source": [
    "## INSTRUCTIONS \n",
    "\n",
    "Every learner should submit his/her own homework solutions. However, you are allowed to discuss the homework with each other– but everyone must submit his/her own solution; you may not copy someone else’s solution. \n",
    "\n",
    "The homework consists of two parts:\n",
    "1.\tData from our life\n",
    "2.\tClassification\n",
    "\n",
    "Follow the prompts in the attached jupyter notebook. We are using the same data as for the previous homeworks. Use the version you created called df2 where you already cleaned, dropped some of the variables but did not create dummy variables. Instead of creating dummy variables, you have to recode this column as suggested bellow.\n",
    "Add markdown cells to your analysis to include your solutions, comments, answers. Add as many cells as you need, for easy readability comment when possible. \n",
    "\n",
    "**Note:** This homework has a bonus question, so the highest mark that can be earned is a 105.\n",
    "Submission: Send in both a ipynb and a pdf file of your work.\n",
    "Good luck!\n",
    "\n"
   ]
  },
  {
   "cell_type": "markdown",
   "id": "51fb31fa",
   "metadata": {},
   "source": [
    "# 1. Data from our lives:"
   ]
  },
  {
   "cell_type": "markdown",
   "id": "4bcc0963",
   "metadata": {},
   "source": [
    "### Describe a situation or problem from your job, everyday life, current events, etc., for which a classification would be appropriate."
   ]
  },
  {
   "cell_type": "markdown",
   "id": "cee2dcf3",
   "metadata": {},
   "source": [
    "**Based on income, Government can easily classify lower income, middle income, and higher income groups and give tax exemptions to the lower and middle-income groups. However, it may include many circumstances for higher-income groups to get tax exemptions.**"
   ]
  },
  {
   "cell_type": "markdown",
   "id": "b5a7df56",
   "metadata": {},
   "source": [
    "# 2. Preprocessing"
   ]
  },
  {
   "cell_type": "markdown",
   "id": "5cf4e2d8",
   "metadata": {},
   "source": [
    "In our class we covered multiple classification methods. In this part of the home work you can compare them \n",
    "\n",
    "**Use the dataset 'auto_imports1.csv' from our previous homeworks. More specifically, use the version you created called df2 where you already cleaned, dropped some of the variables but DID NOT CREATE dummy variables. Follow the prompts to complete the homework.**"
   ]
  },
  {
   "cell_type": "code",
   "execution_count": 1,
   "id": "932b6868-79b6-4952-9334-cc318ebf2bd9",
   "metadata": {},
   "outputs": [
    {
     "name": "stdout",
     "output_type": "stream",
     "text": [
      "done\n"
     ]
    }
   ],
   "source": [
    "from numpy import where\n",
    "from collections import Counter\n",
    "from sklearn.datasets import make_blobs\n",
    "from matplotlib import pyplot\n",
    "from sklearn.ensemble import RandomForestClassifier\n",
    "from sklearn.model_selection import train_test_split, GridSearchCV\n",
    "from sklearn import metrics\n",
    "from sklearn.metrics import roc_auc_score\n",
    "from sklearn.metrics import roc_curve\n",
    "from sklearn.datasets import make_classification\n",
    "from sklearn.model_selection import train_test_split\n",
    "from sklearn.metrics import f1_score\n",
    "from sklearn.covariance import EllipticEnvelope\n",
    "from sklearn.ensemble import IsolationForest\n",
    "from sklearn.svm import OneClassSVM\n",
    "from sklearn.metrics import auc\n",
    "from sklearn.model_selection import cross_val_score\n",
    "from sklearn.model_selection import RepeatedStratifiedKFold\n",
    "from sklearn.svm import SVC\n",
    "from sklearn import svm\n",
    "from sklearn.linear_model import LogisticRegression\n",
    "from sklearn.feature_selection import RFE\n",
    "from sklearn.naive_bayes import GaussianNB\n",
    "from sklearn.metrics import accuracy_score\n",
    "from sklearn.preprocessing import StandardScaler \n",
    "from sklearn.neighbors import KNeighborsClassifier\n",
    "from sklearn.metrics import classification_report, confusion_matrix\n",
    "from collections import Counter\n",
    "from sklearn.dummy import DummyClassifier\n",
    "from mlxtend.plotting import plot_confusion_matrix\n",
    "import matplotlib.pyplot as plt\n",
    "import seaborn as sns\n",
    "%matplotlib inline\n",
    "import numpy as np\n",
    "import pandas as pd\n",
    "from numpy import mean\n",
    "print (\"done\")"
   ]
  },
  {
   "cell_type": "code",
   "execution_count": 2,
   "id": "98465c2b-bb92-43ea-b06b-6c206649e36a",
   "metadata": {},
   "outputs": [
    {
     "data": {
      "text/html": [
       "<div>\n",
       "<style scoped>\n",
       "    .dataframe tbody tr th:only-of-type {\n",
       "        vertical-align: middle;\n",
       "    }\n",
       "\n",
       "    .dataframe tbody tr th {\n",
       "        vertical-align: top;\n",
       "    }\n",
       "\n",
       "    .dataframe thead th {\n",
       "        text-align: right;\n",
       "    }\n",
       "</style>\n",
       "<table border=\"1\" class=\"dataframe\">\n",
       "  <thead>\n",
       "    <tr style=\"text-align: right;\">\n",
       "      <th></th>\n",
       "      <th>fuel_type</th>\n",
       "      <th>body</th>\n",
       "      <th>wheel_base</th>\n",
       "      <th>length</th>\n",
       "      <th>width</th>\n",
       "      <th>heights</th>\n",
       "      <th>curb_weight</th>\n",
       "      <th>engine_type</th>\n",
       "      <th>cylinders</th>\n",
       "      <th>engine_size</th>\n",
       "      <th>bore</th>\n",
       "      <th>stroke</th>\n",
       "      <th>comprassion</th>\n",
       "      <th>horse_power</th>\n",
       "      <th>peak_rpm</th>\n",
       "      <th>city_mpg</th>\n",
       "      <th>highway_mpg</th>\n",
       "      <th>price</th>\n",
       "    </tr>\n",
       "  </thead>\n",
       "  <tbody>\n",
       "    <tr>\n",
       "      <th>0</th>\n",
       "      <td>gas</td>\n",
       "      <td>convertible</td>\n",
       "      <td>88.6</td>\n",
       "      <td>168.8</td>\n",
       "      <td>64.1</td>\n",
       "      <td>48.8</td>\n",
       "      <td>2548</td>\n",
       "      <td>dohc</td>\n",
       "      <td>four</td>\n",
       "      <td>130</td>\n",
       "      <td>3.47</td>\n",
       "      <td>2.68</td>\n",
       "      <td>9.0</td>\n",
       "      <td>111</td>\n",
       "      <td>5000</td>\n",
       "      <td>21</td>\n",
       "      <td>27</td>\n",
       "      <td>13495</td>\n",
       "    </tr>\n",
       "    <tr>\n",
       "      <th>1</th>\n",
       "      <td>gas</td>\n",
       "      <td>convertible</td>\n",
       "      <td>88.6</td>\n",
       "      <td>168.8</td>\n",
       "      <td>64.1</td>\n",
       "      <td>48.8</td>\n",
       "      <td>2548</td>\n",
       "      <td>dohc</td>\n",
       "      <td>four</td>\n",
       "      <td>130</td>\n",
       "      <td>3.47</td>\n",
       "      <td>2.68</td>\n",
       "      <td>9.0</td>\n",
       "      <td>111</td>\n",
       "      <td>5000</td>\n",
       "      <td>21</td>\n",
       "      <td>27</td>\n",
       "      <td>16500</td>\n",
       "    </tr>\n",
       "    <tr>\n",
       "      <th>2</th>\n",
       "      <td>gas</td>\n",
       "      <td>hatchback</td>\n",
       "      <td>94.5</td>\n",
       "      <td>171.2</td>\n",
       "      <td>65.5</td>\n",
       "      <td>52.4</td>\n",
       "      <td>2823</td>\n",
       "      <td>ohcv</td>\n",
       "      <td>six</td>\n",
       "      <td>152</td>\n",
       "      <td>2.68</td>\n",
       "      <td>3.47</td>\n",
       "      <td>9.0</td>\n",
       "      <td>154</td>\n",
       "      <td>5000</td>\n",
       "      <td>19</td>\n",
       "      <td>26</td>\n",
       "      <td>16500</td>\n",
       "    </tr>\n",
       "    <tr>\n",
       "      <th>3</th>\n",
       "      <td>gas</td>\n",
       "      <td>sedan</td>\n",
       "      <td>99.8</td>\n",
       "      <td>176.6</td>\n",
       "      <td>66.2</td>\n",
       "      <td>54.3</td>\n",
       "      <td>2337</td>\n",
       "      <td>ohc</td>\n",
       "      <td>four</td>\n",
       "      <td>109</td>\n",
       "      <td>3.19</td>\n",
       "      <td>3.4</td>\n",
       "      <td>10.0</td>\n",
       "      <td>102</td>\n",
       "      <td>5500</td>\n",
       "      <td>24</td>\n",
       "      <td>30</td>\n",
       "      <td>13950</td>\n",
       "    </tr>\n",
       "    <tr>\n",
       "      <th>4</th>\n",
       "      <td>gas</td>\n",
       "      <td>sedan</td>\n",
       "      <td>99.4</td>\n",
       "      <td>176.6</td>\n",
       "      <td>66.4</td>\n",
       "      <td>54.3</td>\n",
       "      <td>2824</td>\n",
       "      <td>ohc</td>\n",
       "      <td>five</td>\n",
       "      <td>136</td>\n",
       "      <td>3.19</td>\n",
       "      <td>3.4</td>\n",
       "      <td>8.0</td>\n",
       "      <td>115</td>\n",
       "      <td>5500</td>\n",
       "      <td>18</td>\n",
       "      <td>22</td>\n",
       "      <td>17450</td>\n",
       "    </tr>\n",
       "  </tbody>\n",
       "</table>\n",
       "</div>"
      ],
      "text/plain": [
       "  fuel_type         body  wheel_base  length  width  heights  curb_weight  \\\n",
       "0       gas  convertible        88.6   168.8   64.1     48.8         2548   \n",
       "1       gas  convertible        88.6   168.8   64.1     48.8         2548   \n",
       "2       gas    hatchback        94.5   171.2   65.5     52.4         2823   \n",
       "3       gas        sedan        99.8   176.6   66.2     54.3         2337   \n",
       "4       gas        sedan        99.4   176.6   66.4     54.3         2824   \n",
       "\n",
       "  engine_type cylinders  engine_size  bore stroke  comprassion horse_power  \\\n",
       "0        dohc      four          130  3.47   2.68          9.0         111   \n",
       "1        dohc      four          130  3.47   2.68          9.0         111   \n",
       "2        ohcv       six          152  2.68   3.47          9.0         154   \n",
       "3         ohc      four          109  3.19    3.4         10.0         102   \n",
       "4         ohc      five          136  3.19    3.4          8.0         115   \n",
       "\n",
       "  peak_rpm  city_mpg  highway_mpg  price  \n",
       "0     5000        21           27  13495  \n",
       "1     5000        21           27  16500  \n",
       "2     5000        19           26  16500  \n",
       "3     5500        24           30  13950  \n",
       "4     5500        18           22  17450  "
      ]
     },
     "execution_count": 2,
     "metadata": {},
     "output_type": "execute_result"
    }
   ],
   "source": [
    "#Read in data\n",
    "df =pd.read_csv('auto_imports1.csv') #imports the dataset\n",
    "\n",
    "df.head() #snapshot of the dataset"
   ]
  },
  {
   "cell_type": "code",
   "execution_count": 3,
   "id": "6a3853a0-8425-4697-93c1-f0ddf33cc38a",
   "metadata": {},
   "outputs": [],
   "source": [
    "df = df.replace(['?'],'NaN')"
   ]
  },
  {
   "cell_type": "code",
   "execution_count": 4,
   "id": "d536e6de-160d-4151-bc38-5f8c3a7a3994",
   "metadata": {},
   "outputs": [],
   "source": [
    "float_values = {'bore':float,'stroke':float,'horse_power':float,'peak_rpm':float} #assign float values"
   ]
  },
  {
   "cell_type": "code",
   "execution_count": 5,
   "id": "f7bcfbb7-84ee-4d5a-b5cd-e3e0886c484f",
   "metadata": {},
   "outputs": [],
   "source": [
    "df = df.astype(float_values)"
   ]
  },
  {
   "cell_type": "code",
   "execution_count": 6,
   "id": "fa27fe1b-0c2b-41ac-be7c-0d1e2929caab",
   "metadata": {},
   "outputs": [
    {
     "name": "stdout",
     "output_type": "stream",
     "text": [
      "<class 'pandas.core.frame.DataFrame'>\n",
      "RangeIndex: 201 entries, 0 to 200\n",
      "Data columns (total 18 columns):\n",
      " #   Column       Non-Null Count  Dtype  \n",
      "---  ------       --------------  -----  \n",
      " 0   fuel_type    201 non-null    object \n",
      " 1   body         201 non-null    object \n",
      " 2   wheel_base   201 non-null    float64\n",
      " 3   length       201 non-null    float64\n",
      " 4   width        201 non-null    float64\n",
      " 5   heights      201 non-null    float64\n",
      " 6   curb_weight  201 non-null    int64  \n",
      " 7   engine_type  201 non-null    object \n",
      " 8   cylinders    201 non-null    object \n",
      " 9   engine_size  201 non-null    int64  \n",
      " 10  bore         197 non-null    float64\n",
      " 11  stroke       197 non-null    float64\n",
      " 12  comprassion  201 non-null    float64\n",
      " 13  horse_power  199 non-null    float64\n",
      " 14  peak_rpm     199 non-null    float64\n",
      " 15  city_mpg     201 non-null    int64  \n",
      " 16  highway_mpg  201 non-null    int64  \n",
      " 17  price        201 non-null    int64  \n",
      "dtypes: float64(9), int64(5), object(4)\n",
      "memory usage: 28.4+ KB\n"
     ]
    }
   ],
   "source": [
    "df.info()"
   ]
  },
  {
   "cell_type": "code",
   "execution_count": 7,
   "id": "153c8548-80f7-4b22-a306-657312147657",
   "metadata": {},
   "outputs": [],
   "source": [
    "df2 = df"
   ]
  },
  {
   "cell_type": "code",
   "execution_count": 8,
   "id": "dfe55947-e356-4987-b9d6-b24bd8cf08cc",
   "metadata": {},
   "outputs": [],
   "source": [
    "df2 = df2.drop(['body','engine_type','cylinders'], axis=1)"
   ]
  },
  {
   "cell_type": "code",
   "execution_count": 9,
   "id": "6183e4d6-f76d-42d9-a00b-e51ffc944d37",
   "metadata": {},
   "outputs": [
    {
     "data": {
      "text/plain": [
       "fuel_type      0\n",
       "wheel_base     0\n",
       "length         0\n",
       "width          0\n",
       "heights        0\n",
       "curb_weight    0\n",
       "engine_size    0\n",
       "bore           4\n",
       "stroke         4\n",
       "comprassion    0\n",
       "horse_power    2\n",
       "peak_rpm       2\n",
       "city_mpg       0\n",
       "highway_mpg    0\n",
       "price          0\n",
       "dtype: int64"
      ]
     },
     "execution_count": 9,
     "metadata": {},
     "output_type": "execute_result"
    }
   ],
   "source": [
    "df2.isnull().sum()"
   ]
  },
  {
   "cell_type": "code",
   "execution_count": 10,
   "id": "301dee64-05cc-462f-9896-c869f7b1245b",
   "metadata": {},
   "outputs": [],
   "source": [
    "df2 = df2.dropna()"
   ]
  },
  {
   "cell_type": "markdown",
   "id": "7356dab7",
   "metadata": {},
   "source": [
    "## 2.1 **Replace ['gas', 'diesel'] string values to [0, 1]**"
   ]
  },
  {
   "cell_type": "code",
   "execution_count": 11,
   "id": "127b23b0",
   "metadata": {},
   "outputs": [],
   "source": [
    "df2['fuel_type'] = df2.fuel_type.replace({'gas':0,'diesel':1})"
   ]
  },
  {
   "cell_type": "code",
   "execution_count": 12,
   "id": "2cc286de-fc15-4cdc-9083-d20cf58dcaae",
   "metadata": {},
   "outputs": [
    {
     "data": {
      "text/html": [
       "<div>\n",
       "<style scoped>\n",
       "    .dataframe tbody tr th:only-of-type {\n",
       "        vertical-align: middle;\n",
       "    }\n",
       "\n",
       "    .dataframe tbody tr th {\n",
       "        vertical-align: top;\n",
       "    }\n",
       "\n",
       "    .dataframe thead th {\n",
       "        text-align: right;\n",
       "    }\n",
       "</style>\n",
       "<table border=\"1\" class=\"dataframe\">\n",
       "  <thead>\n",
       "    <tr style=\"text-align: right;\">\n",
       "      <th></th>\n",
       "      <th>fuel_type</th>\n",
       "      <th>wheel_base</th>\n",
       "      <th>length</th>\n",
       "      <th>width</th>\n",
       "      <th>heights</th>\n",
       "      <th>curb_weight</th>\n",
       "      <th>engine_size</th>\n",
       "      <th>bore</th>\n",
       "      <th>stroke</th>\n",
       "      <th>comprassion</th>\n",
       "      <th>horse_power</th>\n",
       "      <th>peak_rpm</th>\n",
       "      <th>city_mpg</th>\n",
       "      <th>highway_mpg</th>\n",
       "      <th>price</th>\n",
       "    </tr>\n",
       "  </thead>\n",
       "  <tbody>\n",
       "    <tr>\n",
       "      <th>0</th>\n",
       "      <td>0</td>\n",
       "      <td>88.6</td>\n",
       "      <td>168.8</td>\n",
       "      <td>64.1</td>\n",
       "      <td>48.8</td>\n",
       "      <td>2548</td>\n",
       "      <td>130</td>\n",
       "      <td>3.47</td>\n",
       "      <td>2.68</td>\n",
       "      <td>9.0</td>\n",
       "      <td>111.0</td>\n",
       "      <td>5000.0</td>\n",
       "      <td>21</td>\n",
       "      <td>27</td>\n",
       "      <td>13495</td>\n",
       "    </tr>\n",
       "    <tr>\n",
       "      <th>1</th>\n",
       "      <td>0</td>\n",
       "      <td>88.6</td>\n",
       "      <td>168.8</td>\n",
       "      <td>64.1</td>\n",
       "      <td>48.8</td>\n",
       "      <td>2548</td>\n",
       "      <td>130</td>\n",
       "      <td>3.47</td>\n",
       "      <td>2.68</td>\n",
       "      <td>9.0</td>\n",
       "      <td>111.0</td>\n",
       "      <td>5000.0</td>\n",
       "      <td>21</td>\n",
       "      <td>27</td>\n",
       "      <td>16500</td>\n",
       "    </tr>\n",
       "  </tbody>\n",
       "</table>\n",
       "</div>"
      ],
      "text/plain": [
       "   fuel_type  wheel_base  length  width  heights  curb_weight  engine_size  \\\n",
       "0          0        88.6   168.8   64.1     48.8         2548          130   \n",
       "1          0        88.6   168.8   64.1     48.8         2548          130   \n",
       "\n",
       "   bore  stroke  comprassion  horse_power  peak_rpm  city_mpg  highway_mpg  \\\n",
       "0  3.47    2.68          9.0        111.0    5000.0        21           27   \n",
       "1  3.47    2.68          9.0        111.0    5000.0        21           27   \n",
       "\n",
       "   price  \n",
       "0  13495  \n",
       "1  16500  "
      ]
     },
     "execution_count": 12,
     "metadata": {},
     "output_type": "execute_result"
    }
   ],
   "source": [
    "df2.head(2)"
   ]
  },
  {
   "cell_type": "markdown",
   "id": "c3851124",
   "metadata": {},
   "source": [
    "## 2.2 : Define your X and y: your dependent variable is fuel_type, the rest of the variables are your independent variables"
   ]
  },
  {
   "cell_type": "code",
   "execution_count": 13,
   "id": "f3735085",
   "metadata": {},
   "outputs": [],
   "source": [
    "traget = 'fuel_type' #dependent varible"
   ]
  },
  {
   "cell_type": "code",
   "execution_count": 14,
   "id": "85fb463a-5cc9-416b-a51f-06b45b186de3",
   "metadata": {},
   "outputs": [],
   "source": [
    "X = df2.loc[:,df2.columns != traget] #Dataset without dependent variable"
   ]
  },
  {
   "cell_type": "code",
   "execution_count": 15,
   "id": "7e7bd912-5ee0-4799-8694-1f0350565dec",
   "metadata": {},
   "outputs": [],
   "source": [
    "y = df2.loc[:,traget] #Dataset without independent variables"
   ]
  },
  {
   "cell_type": "code",
   "execution_count": 16,
   "id": "c26bf789-73e3-4b4c-b0c5-d7448887b868",
   "metadata": {},
   "outputs": [
    {
     "name": "stdout",
     "output_type": "stream",
     "text": [
      "Feature data dimension: (195, 14)\n"
     ]
    }
   ],
   "source": [
    "print('Feature data dimension:', X.shape) #dimension of data without target variable"
   ]
  },
  {
   "cell_type": "markdown",
   "id": "cf86f4df",
   "metadata": {},
   "source": [
    "## 2.3 Split your data into training and testing set. Use test_size=0.3, random_state=746 !"
   ]
  },
  {
   "cell_type": "code",
   "execution_count": 17,
   "id": "2e6c1b4f",
   "metadata": {},
   "outputs": [
    {
     "name": "stdout",
     "output_type": "stream",
     "text": [
      "Train set: (136, 14) (136,)\n",
      "Test set: (59, 14) (59,)\n"
     ]
    }
   ],
   "source": [
    "from sklearn.model_selection import train_test_split\n",
    "X_train, X_test, y_train, y_test = train_test_split( X, y, test_size=0.3, random_state=746)\n",
    "print ('Train set:', X_train.shape,  y_train.shape)\n",
    "print ('Test set:', X_test.shape,  y_test.shape)"
   ]
  },
  {
   "cell_type": "markdown",
   "id": "4ad2fd64",
   "metadata": {},
   "source": [
    "# 3. Classification"
   ]
  },
  {
   "cell_type": "markdown",
   "id": "35ea935a",
   "metadata": {},
   "source": [
    "### 3.1 Use Logistic regression to classify your data. Print/report your confusion matrix, classification report and AUC"
   ]
  },
  {
   "cell_type": "markdown",
   "id": "361ad01f-cf90-4954-a60d-ce90a4c5388e",
   "metadata": {},
   "source": [
    "Let's build our model using **LogisticRegression** from the Scikit-learn package. This function implements logistic regression and can use different numerical optimizers to find parameters, including ‘newton-cg’, ‘blogs’, ‘liblinear’, ‘sag’, ‘saga’ solvers. You can find extensive information about the pros and cons of these optimizers if you search it on the internet.\n",
    "\n",
    "The version of Logistic Regression in Scikit-learn, support regularization. Regularization is a technique used to solve the overfitting problem of machine learning models.\n",
    "**C** parameter indicates **inverse of regularization strength** which must be a positive float. Smaller values specify stronger regularization.\n",
    "Now let's fit our model with train set:"
   ]
  },
  {
   "cell_type": "code",
   "execution_count": 18,
   "id": "ab66e66a",
   "metadata": {},
   "outputs": [],
   "source": [
    "LR = LogisticRegression(C=0.01, solver='liblinear').fit(X_train,y_train)"
   ]
  },
  {
   "cell_type": "code",
   "execution_count": 19,
   "id": "b689c81c-565a-4d4f-98e8-0b11b91ee04c",
   "metadata": {},
   "outputs": [],
   "source": [
    "yhat = LR.predict(X_test)"
   ]
  },
  {
   "cell_type": "code",
   "execution_count": 20,
   "id": "e31c62fa-e5e9-432e-94d3-3ad800bff045",
   "metadata": {},
   "outputs": [],
   "source": [
    "cf_matrix2 = confusion_matrix(y_test, yhat)"
   ]
  },
  {
   "cell_type": "code",
   "execution_count": 21,
   "id": "e2e142f5-16c8-4fcf-9eae-9869d960078b",
   "metadata": {},
   "outputs": [
    {
     "name": "stdout",
     "output_type": "stream",
     "text": [
      "1.0\n",
      "[[50  0]\n",
      " [ 0  9]]\n",
      "              precision    recall  f1-score   support\n",
      "\n",
      "           0       1.00      1.00      1.00        50\n",
      "           1       1.00      1.00      1.00         9\n",
      "\n",
      "    accuracy                           1.00        59\n",
      "   macro avg       1.00      1.00      1.00        59\n",
      "weighted avg       1.00      1.00      1.00        59\n",
      "\n",
      "Cohen Kappa: 1.000\n",
      "AUC: 1.000\n"
     ]
    }
   ],
   "source": [
    "# Evaluate label (subsets) accuracy:\n",
    "print(accuracy_score(y_test, yhat))\n",
    "print(confusion_matrix(y_test, yhat))\n",
    "print(classification_report(y_test, yhat))\n",
    "\n",
    "cohen3= metrics.cohen_kappa_score(y_test, yhat)\n",
    "print('Cohen Kappa: %.3f' % cohen3)\n",
    "\n",
    "auc_score3 = roc_auc_score(y_test,yhat)\n",
    "print('AUC: %.3f' % auc_score3)"
   ]
  },
  {
   "cell_type": "code",
   "execution_count": 22,
   "id": "a0bcd6a5-d22d-4322-b9dd-796a7ab19126",
   "metadata": {},
   "outputs": [
    {
     "data": {
      "image/png": "[encoded data removed]",
      "text/plain": [
       "<Figure size 432x288 with 2 Axes>"
      ]
     },
     "metadata": {
      "needs_background": "light"
     },
     "output_type": "display_data"
    }
   ],
   "source": [
    "ax = sns.heatmap(cf_matrix2, annot=True, cmap='Blues')\n",
    "\n",
    "ax.set_title('Logistic Regression Confusion Matrix with labels\\n\\n');\n",
    "ax.set_xlabel('\\nPredicted Values')\n",
    "ax.set_ylabel('Actual Values ');\n",
    "\n",
    "\n",
    "## Display the visualization of the Confusion Matrix.\n",
    "plt.savefig(\"logreg.jpg\")\n",
    "plt.show()"
   ]
  },
  {
   "cell_type": "markdown",
   "id": "720acbf9",
   "metadata": {},
   "source": [
    "<b> With logistic regression our model predict acurracy is 1 that being said everything is perfect. <b>"
   ]
  },
  {
   "cell_type": "markdown",
   "id": "2d3360f1",
   "metadata": {},
   "source": [
    "### 3.2 Use Naive Bayes to classify your data. Print/report your confusion matrix, classification report and AUC"
   ]
  },
  {
   "cell_type": "code",
   "execution_count": 23,
   "id": "131bcdbf",
   "metadata": {},
   "outputs": [],
   "source": [
    "# Initialize classifier:\n",
    "gnb = GaussianNB()\n",
    "\n",
    "# Train the classifier:\n",
    "model = gnb.fit(X_train, y_train)"
   ]
  },
  {
   "cell_type": "code",
   "execution_count": 24,
   "id": "8db195c8-4ce8-4f17-b43c-c59b84e34adf",
   "metadata": {},
   "outputs": [
    {
     "name": "stdout",
     "output_type": "stream",
     "text": [
      "1.0\n",
      "[[50  0]\n",
      " [ 0  9]]\n",
      "              precision    recall  f1-score   support\n",
      "\n",
      "           0       1.00      1.00      1.00        50\n",
      "           1       1.00      1.00      1.00         9\n",
      "\n",
      "    accuracy                           1.00        59\n",
      "   macro avg       1.00      1.00      1.00        59\n",
      "weighted avg       1.00      1.00      1.00        59\n",
      "\n",
      "Cohen Kappa: 1.000\n",
      "AUC: 1.000\n"
     ]
    }
   ],
   "source": [
    "# Make predictions with the classifier:\n",
    "predictive_labels = gnb.predict(X_test)\n",
    "\n",
    "# Evaluate label (subsets) accuracy:\n",
    "print(accuracy_score(y_test, predictive_labels))\n",
    "\n",
    "cf_matrix=confusion_matrix(y_test, predictive_labels)\n",
    "\n",
    "print(confusion_matrix(y_test, predictive_labels))\n",
    "print(classification_report(y_test, predictive_labels))\n",
    "\n",
    "cohen3= metrics.cohen_kappa_score(y_test, predictive_labels)\n",
    "print('Cohen Kappa: %.3f' % cohen3)\n",
    "\n",
    "auc_score3 = roc_auc_score(y_test,predictive_labels)\n",
    "print('AUC: %.3f' % auc_score3)"
   ]
  },
  {
   "cell_type": "code",
   "execution_count": 25,
   "id": "addb2121-0d3a-4900-a706-2bf10f8b92da",
   "metadata": {},
   "outputs": [
    {
     "data": {
      "image/png": "[encoded data removed]",
      "text/plain": [
       "<Figure size 432x288 with 2 Axes>"
      ]
     },
     "metadata": {
      "needs_background": "light"
     },
     "output_type": "display_data"
    }
   ],
   "source": [
    "ax = sns.heatmap(cf_matrix, annot=True, cmap='Greens')\n",
    "\n",
    "ax.set_title('Naive Bayes Confusion Matrix with labels\\n\\n');\n",
    "ax.set_xlabel('\\nPredicted Values')\n",
    "ax.set_ylabel('Actual Values ');\n",
    "\n",
    "## Display the visualization of the Confusion Matrix.\n",
    "plt.savefig(\"naive.jpg\")\n",
    "plt.show()"
   ]
  },
  {
   "cell_type": "markdown",
   "id": "28756860",
   "metadata": {},
   "source": [
    "**With navie base model the predict acurracy is 1, it shows same the logistic regression.**"
   ]
  },
  {
   "cell_type": "markdown",
   "id": "c495f2d4",
   "metadata": {},
   "source": [
    "### 3.3 Use KNN to classify your data. First find the optimal k and than run you classification. Print/report your confusion matrix, classification report and AUC"
   ]
  },
  {
   "cell_type": "code",
   "execution_count": 26,
   "id": "afd53354",
   "metadata": {},
   "outputs": [
    {
     "data": {
      "image/png": "[encoded data removed]",
      "text/plain": [
       "<Figure size 720x504 with 1 Axes>"
      ]
     },
     "metadata": {
      "needs_background": "light"
     },
     "output_type": "display_data"
    }
   ],
   "source": [
    "error_rates = []\n",
    "\n",
    "for a in range(1, 30):\n",
    "    k = a\n",
    "    knn = KNeighborsClassifier(n_neighbors=k)\n",
    "    knn.fit(X_train, y_train)\n",
    "    preds = knn.predict(X_test)\n",
    "    error_rates.append(np.mean(y_test - preds))\n",
    "    \n",
    "#plot error rates against number of neighbors\n",
    "plt.figure(figsize=(10, 7))\n",
    "plt.plot(range(1,30),error_rates,color='blue', linestyle='dashed', marker='o',\n",
    "         markerfacecolor='red', markersize=10)\n",
    "plt.title('Error Rate vs. K Value')\n",
    "plt.xlabel('K')\n",
    "plt.ylabel('Error Rate')\n",
    "plt.savefig('knn.png')\n",
    "plt.show()"
   ]
  },
  {
   "cell_type": "code",
   "execution_count": 27,
   "id": "7990ed4f-ea00-457e-adc0-00fab39359e9",
   "metadata": {},
   "outputs": [
    {
     "name": "stdout",
     "output_type": "stream",
     "text": [
      "[[49  1]\n",
      " [ 6  3]]\n",
      "              precision    recall  f1-score   support\n",
      "\n",
      "           0       0.89      0.98      0.93        50\n",
      "           1       0.75      0.33      0.46         9\n",
      "\n",
      "    accuracy                           0.88        59\n",
      "   macro avg       0.82      0.66      0.70        59\n",
      "weighted avg       0.87      0.88      0.86        59\n",
      "\n",
      "Cohen Kappa: 0.406\n",
      "AUC: 0.657\n"
     ]
    }
   ],
   "source": [
    "#Train classifier on the optimal k that we chose from the plot\n",
    "k = 3\n",
    "knn = KNeighborsClassifier(n_neighbors=k)\n",
    "knn.fit(X_train, y_train)\n",
    "preds = knn.predict(X_test)\n",
    "#Classification report\n",
    "#from sklearn.metrics import confusion_matrix, classification_report\n",
    "\n",
    "print(confusion_matrix(y_test, preds))\n",
    "print(classification_report(y_test, preds))\n",
    "\n",
    "cohen=metrics.cohen_kappa_score(y_test, preds)\n",
    "print('Cohen Kappa: %.3f' % cohen)\n",
    "\n",
    "auc_score = roc_auc_score(y_test,preds)\n",
    "print('AUC: %.3f' % auc_score)"
   ]
  },
  {
   "cell_type": "markdown",
   "id": "16468f38",
   "metadata": {},
   "source": [
    "**we see that for gas prediction it predicted well, but for disel it predicted as gas, model is biased. and we see that its imbalanced data. this should be handled.**"
   ]
  },
  {
   "cell_type": "markdown",
   "id": "e3371eae",
   "metadata": {},
   "source": [
    "### 3.4 Choose one: SVM or Random Forest to classify your data. Print/report your confusion matrix, classification report and AUC."
   ]
  },
  {
   "cell_type": "code",
   "execution_count": 28,
   "id": "e7b82419",
   "metadata": {},
   "outputs": [],
   "source": [
    "# define model\n",
    "clf = SVC()\n",
    "model3=clf.fit(X_train, y_train)"
   ]
  },
  {
   "cell_type": "code",
   "execution_count": 29,
   "id": "fc6a77b3-10da-41a6-8912-c78e9affabb0",
   "metadata": {},
   "outputs": [
    {
     "name": "stdout",
     "output_type": "stream",
     "text": [
      "Accuracy: 0.847457627118644\n",
      "[[50  0]\n",
      " [ 9  0]]\n",
      "              precision    recall  f1-score   support\n",
      "\n",
      "           0       0.85      1.00      0.92        50\n",
      "           1       0.00      0.00      0.00         9\n",
      "\n",
      "    accuracy                           0.85        59\n",
      "   macro avg       0.42      0.50      0.46        59\n",
      "weighted avg       0.72      0.85      0.78        59\n",
      "\n",
      "Precision: 0.0\n",
      "Recall: 0.0\n",
      "Cohen Kappa: 0.000\n",
      "AUC: 0.500\n"
     ]
    },
    {
     "name": "stderr",
     "output_type": "stream",
     "text": [
      "/Users/nithinreddynagapur/opt/anaconda3/lib/python3.9/site-packages/sklearn/metrics/_classification.py:1318: UndefinedMetricWarning: Precision and F-score are ill-defined and being set to 0.0 in labels with no predicted samples. Use `zero_division` parameter to control this behavior.\n",
      "  _warn_prf(average, modifier, msg_start, len(result))\n",
      "/Users/nithinreddynagapur/opt/anaconda3/lib/python3.9/site-packages/sklearn/metrics/_classification.py:1318: UndefinedMetricWarning: Precision and F-score are ill-defined and being set to 0.0 in labels with no predicted samples. Use `zero_division` parameter to control this behavior.\n",
      "  _warn_prf(average, modifier, msg_start, len(result))\n",
      "/Users/nithinreddynagapur/opt/anaconda3/lib/python3.9/site-packages/sklearn/metrics/_classification.py:1318: UndefinedMetricWarning: Precision and F-score are ill-defined and being set to 0.0 in labels with no predicted samples. Use `zero_division` parameter to control this behavior.\n",
      "  _warn_prf(average, modifier, msg_start, len(result))\n",
      "/Users/nithinreddynagapur/opt/anaconda3/lib/python3.9/site-packages/sklearn/metrics/_classification.py:1318: UndefinedMetricWarning: Precision is ill-defined and being set to 0.0 due to no predicted samples. Use `zero_division` parameter to control this behavior.\n",
      "  _warn_prf(average, modifier, msg_start, len(result))\n"
     ]
    }
   ],
   "source": [
    "#Predict the response for test dataset\n",
    "y_pred = clf.predict(X_test)\n",
    "# Model Accuracy: how often is the classifier correct?\n",
    "print(\"Accuracy:\",metrics.accuracy_score(y_test, y_pred))\n",
    "print(confusion_matrix(y_test, y_pred))\n",
    "print(classification_report(y_test, y_pred))\n",
    "\n",
    "# Model Precision: what percentage of positive tuples are labeled as such?\n",
    "print(\"Precision:\",metrics.precision_score(y_test, y_pred))\n",
    "\n",
    "# Model Recall: what percentage of positive tuples are labelled as such?\n",
    "print(\"Recall:\",metrics.recall_score(y_test, y_pred))\n",
    "\n",
    "cohen1=metrics.cohen_kappa_score(y_test, y_pred)\n",
    "print('Cohen Kappa: %.3f' % cohen1)\n",
    "\n",
    "auc_score1 = roc_auc_score(y_test, y_pred)\n",
    "print('AUC: %.3f' % auc_score1)"
   ]
  },
  {
   "cell_type": "markdown",
   "id": "df382cb9",
   "metadata": {},
   "source": [
    "**SVM model also shows the same classification as KNN. (Cause, Imbalanced Data)**"
   ]
  },
  {
   "cell_type": "markdown",
   "id": "66c75879",
   "metadata": {},
   "source": [
    "### 3.5 Compare your results and comment on your findings. Which one(s) did the best job? What could have been the problem with the ones that did not work? etc."
   ]
  },
  {
   "cell_type": "markdown",
   "id": "ef5712f0",
   "metadata": {},
   "source": [
    "**By comparing all the four models' logic regression, the naive base classified gas and diesel correctly, whereas KNN and SVM classified gas but were unable to classify diesel correctly because of imbalanced data. In my eyes, imbalanced works well with logistic regression and naive compared to KNN and SVM.**"
   ]
  },
  {
   "cell_type": "markdown",
   "id": "d3740e1a",
   "metadata": {},
   "source": [
    "## 4. Bonus question (5 extra points)\n",
    "**Try to fix the inbalanced nature of the data with a tool from the lecture. Run one of the classification methods (preferable one that \"failed\" before) and see if you get better results.**"
   ]
  },
  {
   "cell_type": "markdown",
   "id": "622ced82",
   "metadata": {},
   "source": [
    "Let's us verify our dataset is imbalnced or not."
   ]
  },
  {
   "cell_type": "code",
   "execution_count": 30,
   "id": "5724e7f3",
   "metadata": {},
   "outputs": [
    {
     "data": {
      "image/png": "[encoded data removed]",
      "text/plain": [
       "<Figure size 432x288 with 1 Axes>"
      ]
     },
     "metadata": {
      "needs_background": "light"
     },
     "output_type": "display_data"
    }
   ],
   "source": [
    "count_class = pd.value_counts(df2['fuel_type'], sort=True)\n",
    "count_class.plot(kind='bar',rot=0)\n",
    "plt.ylabel('Frequency')\n",
    "plt.xlabel('Distribution')\n",
    "plt.title('Imbalanced Data Visualisation')\n",
    "plt.show()"
   ]
  },
  {
   "cell_type": "markdown",
   "id": "e294a634",
   "metadata": {},
   "source": [
    "From seeing above graph it's clear that, there is some imbalance data. "
   ]
  },
  {
   "cell_type": "code",
   "execution_count": 31,
   "id": "3cc2c147",
   "metadata": {},
   "outputs": [],
   "source": [
    "Gas = df2[df2['fuel_type'] == 0]"
   ]
  },
  {
   "cell_type": "code",
   "execution_count": 32,
   "id": "60bc0645",
   "metadata": {},
   "outputs": [
    {
     "data": {
      "text/plain": [
       "(175, 15)"
      ]
     },
     "execution_count": 32,
     "metadata": {},
     "output_type": "execute_result"
    }
   ],
   "source": [
    "Gas.shape"
   ]
  },
  {
   "cell_type": "code",
   "execution_count": 33,
   "id": "92f09999",
   "metadata": {},
   "outputs": [],
   "source": [
    "Desiel = df2[df2['fuel_type'] == 1]"
   ]
  },
  {
   "cell_type": "code",
   "execution_count": 34,
   "id": "ef48a5e3",
   "metadata": {},
   "outputs": [
    {
     "data": {
      "text/plain": [
       "(20, 15)"
      ]
     },
     "execution_count": 34,
     "metadata": {},
     "output_type": "execute_result"
    }
   ],
   "source": [
    "Desiel.shape"
   ]
  },
  {
   "cell_type": "markdown",
   "id": "351f9646",
   "metadata": {},
   "source": [
    "As KNN & SVM doesn't able to classify diesel properly due to imbalance in nature, I am going to try Oversampling and UnderSampling to handle the imbalanced data set."
   ]
  },
  {
   "cell_type": "markdown",
   "id": "b59ec72f",
   "metadata": {},
   "source": [
    "<h5>OverSampling</h5>"
   ]
  },
  {
   "cell_type": "code",
   "execution_count": 35,
   "id": "07623a1f",
   "metadata": {},
   "outputs": [],
   "source": [
    "from imblearn.over_sampling import SMOTE #import Oversampling Libraries"
   ]
  },
  {
   "cell_type": "code",
   "execution_count": 36,
   "id": "4698ef79",
   "metadata": {},
   "outputs": [
    {
     "name": "stdout",
     "output_type": "stream",
     "text": [
      "Original dataset shape Counter({0: 175, 1: 20})\n",
      "Resampled dataset shape Counter({0: 175, 1: 175})\n"
     ]
    }
   ],
   "source": [
    "print('Original dataset shape %s' % Counter(y))\n",
    "sm = SMOTE(random_state=42)\n",
    "X_res, y_res = sm.fit_resample(X, y)\n",
    "print('Resampled dataset shape %s' % Counter(y_res))"
   ]
  },
  {
   "cell_type": "code",
   "execution_count": 37,
   "id": "29b97864",
   "metadata": {},
   "outputs": [
    {
     "data": {
      "text/plain": [
       "(350, 14)"
      ]
     },
     "execution_count": 37,
     "metadata": {},
     "output_type": "execute_result"
    }
   ],
   "source": [
    "X_res.shape #shape of new data dimension"
   ]
  },
  {
   "cell_type": "code",
   "execution_count": 38,
   "id": "55454351",
   "metadata": {},
   "outputs": [
    {
     "data": {
      "text/plain": [
       "(350,)"
      ]
     },
     "execution_count": 38,
     "metadata": {},
     "output_type": "execute_result"
    }
   ],
   "source": [
    "y_res.shape"
   ]
  },
  {
   "cell_type": "code",
   "execution_count": 39,
   "id": "6ddd803c",
   "metadata": {},
   "outputs": [],
   "source": [
    "clf1 = SVC()\n",
    "model4 = clf1.fit(X_train, y_train)"
   ]
  },
  {
   "cell_type": "code",
   "execution_count": 40,
   "id": "51194d64",
   "metadata": {},
   "outputs": [
    {
     "name": "stdout",
     "output_type": "stream",
     "text": [
      "Accuracy: 0.5\n",
      "[[175   0]\n",
      " [175   0]]\n",
      "              precision    recall  f1-score   support\n",
      "\n",
      "           0       0.50      1.00      0.67       175\n",
      "           1       0.00      0.00      0.00       175\n",
      "\n",
      "    accuracy                           0.50       350\n",
      "   macro avg       0.25      0.50      0.33       350\n",
      "weighted avg       0.25      0.50      0.33       350\n",
      "\n",
      "Precision: 0.0\n",
      "Recall: 0.0\n",
      "Cohen Kappa: 0.000\n",
      "AUC: 0.500\n"
     ]
    },
    {
     "name": "stderr",
     "output_type": "stream",
     "text": [
      "/Users/nithinreddynagapur/opt/anaconda3/lib/python3.9/site-packages/sklearn/metrics/_classification.py:1318: UndefinedMetricWarning: Precision and F-score are ill-defined and being set to 0.0 in labels with no predicted samples. Use `zero_division` parameter to control this behavior.\n",
      "  _warn_prf(average, modifier, msg_start, len(result))\n",
      "/Users/nithinreddynagapur/opt/anaconda3/lib/python3.9/site-packages/sklearn/metrics/_classification.py:1318: UndefinedMetricWarning: Precision and F-score are ill-defined and being set to 0.0 in labels with no predicted samples. Use `zero_division` parameter to control this behavior.\n",
      "  _warn_prf(average, modifier, msg_start, len(result))\n",
      "/Users/nithinreddynagapur/opt/anaconda3/lib/python3.9/site-packages/sklearn/metrics/_classification.py:1318: UndefinedMetricWarning: Precision and F-score are ill-defined and being set to 0.0 in labels with no predicted samples. Use `zero_division` parameter to control this behavior.\n",
      "  _warn_prf(average, modifier, msg_start, len(result))\n",
      "/Users/nithinreddynagapur/opt/anaconda3/lib/python3.9/site-packages/sklearn/metrics/_classification.py:1318: UndefinedMetricWarning: Precision is ill-defined and being set to 0.0 due to no predicted samples. Use `zero_division` parameter to control this behavior.\n",
      "  _warn_prf(average, modifier, msg_start, len(result))\n"
     ]
    }
   ],
   "source": [
    "#Predict the response for test dataset\n",
    "y_pred = clf.predict(X_res)\n",
    "# Model Accuracy: how often is the classifier correct?\n",
    "print(\"Accuracy:\",metrics.accuracy_score(y_res, y_pred))\n",
    "print(confusion_matrix(y_res, y_pred))\n",
    "print(classification_report(y_res, y_pred))\n",
    "\n",
    "# Model Precision: what percentage of positive tuples are labeled as such?\n",
    "print(\"Precision:\",metrics.precision_score(y_res, y_pred))\n",
    "\n",
    "# Model Recall: what percentage of positive tuples are labelled as such?\n",
    "print(\"Recall:\",metrics.recall_score(y_res, y_pred))\n",
    "\n",
    "cohen_1 = metrics.cohen_kappa_score(y_res, y_pred)\n",
    "print('Cohen Kappa: %.3f' % cohen_1)\n",
    "\n",
    "auc_score_1 = roc_auc_score(y_res, y_pred)\n",
    "print('AUC: %.3f' % auc_score_1)"
   ]
  },
  {
   "cell_type": "code",
   "execution_count": 43,
   "id": "be793b32",
   "metadata": {},
   "outputs": [
    {
     "name": "stdout",
     "output_type": "stream",
     "text": [
      "[[173   2]\n",
      " [104  71]]\n",
      "              precision    recall  f1-score   support\n",
      "\n",
      "           0       0.62      0.99      0.77       175\n",
      "           1       0.97      0.41      0.57       175\n",
      "\n",
      "    accuracy                           0.70       350\n",
      "   macro avg       0.80      0.70      0.67       350\n",
      "weighted avg       0.80      0.70      0.67       350\n",
      "\n",
      "Cohen Kappa: 0.394\n",
      "AUC: 0.697\n"
     ]
    }
   ],
   "source": [
    "#Train classifier on the optimal k that we chose from the plot\n",
    "k = 3\n",
    "knn = KNeighborsClassifier(n_neighbors=k)\n",
    "knn.fit(X_train, y_train)\n",
    "preds = knn.predict(X_res)\n",
    "#Classification report\n",
    "#from sklearn.metrics import confusion_matrix, classification_report\n",
    "\n",
    "print(confusion_matrix(y_res, preds))\n",
    "print(classification_report(y_res, preds))\n",
    "\n",
    "cohen_2=metrics.cohen_kappa_score(y_res, preds)\n",
    "print('Cohen Kappa: %.3f' % cohen_2)\n",
    "\n",
    "auc_score_2 = roc_auc_score(y_res,preds)\n",
    "print('AUC: %.3f' % auc_score_2)"
   ]
  },
  {
   "cell_type": "code",
   "execution_count": 46,
   "id": "ffcd5a03",
   "metadata": {},
   "outputs": [
    {
     "name": "stdout",
     "output_type": "stream",
     "text": [
      "After handling the imbalanced dataset with oversampling library SMOTE KNN accuracy is 0.6971428571428572% whereas SVM shows the same accuracy 0.5%\n"
     ]
    }
   ],
   "source": [
    "print('After handling the imbalanced dataset with oversampling library SMOTE KNN accuracy is {}% whereas SVM shows the same accuracy {}%'.format(auc_score_2,auc_score_1))"
   ]
  },
  {
   "cell_type": "markdown",
   "id": "84095b89",
   "metadata": {},
   "source": [
    "<h5> UnderSampling <h5>"
   ]
  },
  {
   "cell_type": "code",
   "execution_count": 47,
   "id": "cbf202ae",
   "metadata": {},
   "outputs": [],
   "source": [
    "from imblearn.under_sampling import TomekLinks"
   ]
  },
  {
   "cell_type": "code",
   "execution_count": 48,
   "id": "b7a93d09",
   "metadata": {},
   "outputs": [],
   "source": [
    "tl = TomekLinks()\n",
    "X_re, y_re = tl.fit_resample(X, y)"
   ]
  },
  {
   "cell_type": "code",
   "execution_count": 49,
   "id": "fefb3c0b",
   "metadata": {},
   "outputs": [
    {
     "name": "stdout",
     "output_type": "stream",
     "text": [
      "[[170   1]\n",
      " [ 10  10]]\n",
      "              precision    recall  f1-score   support\n",
      "\n",
      "           0       0.94      0.99      0.97       171\n",
      "           1       0.91      0.50      0.65        20\n",
      "\n",
      "    accuracy                           0.94       191\n",
      "   macro avg       0.93      0.75      0.81       191\n",
      "weighted avg       0.94      0.94      0.93       191\n",
      "\n",
      "Cohen Kappa: 0.617\n",
      "AUC: 0.747\n"
     ]
    }
   ],
   "source": [
    "#Train classifier on the optimal k that we chose from the plot\n",
    "k = 3\n",
    "knn = KNeighborsClassifier(n_neighbors=k)\n",
    "knn.fit(X_train, y_train)\n",
    "preds = knn.predict(X_re)\n",
    "#Classification report\n",
    "#from sklearn.metrics import confusion_matrix, classification_report\n",
    "\n",
    "print(confusion_matrix(y_re, preds))\n",
    "print(classification_report(y_re, preds))\n",
    "\n",
    "cohen_3=metrics.cohen_kappa_score(y_re, preds)\n",
    "print('Cohen Kappa: %.3f' % cohen_3)\n",
    "\n",
    "auc_score_3 = roc_auc_score(y_re,preds)\n",
    "print('AUC: %.3f' % auc_score_3)"
   ]
  },
  {
   "cell_type": "code",
   "execution_count": 50,
   "id": "0d274ce8",
   "metadata": {},
   "outputs": [],
   "source": [
    "clf2 = SVC()\n",
    "model5 = clf2.fit(X_train, y_train)"
   ]
  },
  {
   "cell_type": "code",
   "execution_count": 52,
   "id": "9db8e3d5",
   "metadata": {},
   "outputs": [
    {
     "name": "stdout",
     "output_type": "stream",
     "text": [
      "Accuracy: 0.8952879581151832\n",
      "[[171   0]\n",
      " [ 20   0]]\n",
      "              precision    recall  f1-score   support\n",
      "\n",
      "           0       0.90      1.00      0.94       171\n",
      "           1       0.00      0.00      0.00        20\n",
      "\n",
      "    accuracy                           0.90       191\n",
      "   macro avg       0.45      0.50      0.47       191\n",
      "weighted avg       0.80      0.90      0.85       191\n",
      "\n",
      "Precision: 0.0\n",
      "Recall: 0.0\n",
      "Cohen Kappa: 0.000\n",
      "AUC: 0.500\n"
     ]
    },
    {
     "name": "stderr",
     "output_type": "stream",
     "text": [
      "/Users/nithinreddynagapur/opt/anaconda3/lib/python3.9/site-packages/sklearn/metrics/_classification.py:1318: UndefinedMetricWarning: Precision and F-score are ill-defined and being set to 0.0 in labels with no predicted samples. Use `zero_division` parameter to control this behavior.\n",
      "  _warn_prf(average, modifier, msg_start, len(result))\n",
      "/Users/nithinreddynagapur/opt/anaconda3/lib/python3.9/site-packages/sklearn/metrics/_classification.py:1318: UndefinedMetricWarning: Precision and F-score are ill-defined and being set to 0.0 in labels with no predicted samples. Use `zero_division` parameter to control this behavior.\n",
      "  _warn_prf(average, modifier, msg_start, len(result))\n",
      "/Users/nithinreddynagapur/opt/anaconda3/lib/python3.9/site-packages/sklearn/metrics/_classification.py:1318: UndefinedMetricWarning: Precision and F-score are ill-defined and being set to 0.0 in labels with no predicted samples. Use `zero_division` parameter to control this behavior.\n",
      "  _warn_prf(average, modifier, msg_start, len(result))\n",
      "/Users/nithinreddynagapur/opt/anaconda3/lib/python3.9/site-packages/sklearn/metrics/_classification.py:1318: UndefinedMetricWarning: Precision is ill-defined and being set to 0.0 due to no predicted samples. Use `zero_division` parameter to control this behavior.\n",
      "  _warn_prf(average, modifier, msg_start, len(result))\n"
     ]
    }
   ],
   "source": [
    "#Predict the response for test dataset\n",
    "y_pred = clf.predict(X_re)\n",
    "\n",
    "# Model Accuracy: how often is the classifier correct?\n",
    "print(\"Accuracy:\",metrics.accuracy_score(y_re, y_pred))\n",
    "\n",
    "print(confusion_matrix(y_re, y_pred))\n",
    "\n",
    "print(classification_report(y_re, y_pred))\n",
    "\n",
    "# Model Precision: what percentage of positive tuples are labeled as such?\n",
    "print(\"Precision:\",metrics.precision_score(y_re, y_pred))\n",
    "\n",
    "# Model Recall: what percentage of positive tuples are labelled as such?\n",
    "print(\"Recall:\",metrics.recall_score(y_re, y_pred))\n",
    "\n",
    "cohen_4=metrics.cohen_kappa_score(y_re, y_pred)\n",
    "print('Cohen Kappa: %.3f' % cohen_4)\n",
    "\n",
    "auc_score_4 = roc_auc_score(y_re, y_pred)\n",
    "print('AUC: %.3f' % auc_score_4)"
   ]
  },
  {
   "cell_type": "code",
   "execution_count": 54,
   "id": "82116a3e",
   "metadata": {},
   "outputs": [
    {
     "name": "stdout",
     "output_type": "stream",
     "text": [
      "After handling the imbalanced dataset with oversampling library SMOTE KNN accuracy is 0.747076023391813 % whereas SVM shows the same accuracy 0.5\n"
     ]
    }
   ],
   "source": [
    "print('After handling the imbalanced dataset with oversampling library SMOTE KNN accuracy is {} % whereas SVM shows the same accuracy {}'.format(auc_score_3,auc_score_4))"
   ]
  },
  {
   "cell_type": "markdown",
   "id": "83ab8c51",
   "metadata": {},
   "source": [
    "# Conclusion"
   ]
  },
  {
   "cell_type": "markdown",
   "id": "4ccbd02b",
   "metadata": {},
   "source": [
    "**According my understanding after do this home work, LinearRegression, Navie Base works well with imbalnced data where as KNN & SVM doesn't able to classify our prediction. I have noted one thing that even after handling imbalanced data with both oversampling and undersampling SVM didn't worked it has the same accuracy with 50%. However, KNN prediction accuracy increased with undersampling by 9%.**"
   ]
  },
  {
   "cell_type": "markdown",
   "id": "808eb690",
   "metadata": {},
   "source": [
    "# References"
   ]
  },
  {
   "cell_type": "markdown",
   "id": "0b835a58",
   "metadata": {},
   "source": [
    "1. CS746 Lecture Slides\n",
    "2. Skitlearn Libraries\n",
    "3. Partial code from other python notebook uploded by professor\n",
    "4. Kaggle"
   ]
  }
 ],
 "metadata": {
  "kernelspec": {
   "display_name": "Python 3 (ipykernel)",
   "language": "python",
   "name": "python3"
  },
  "language_info": {
   "codemirror_mode": {
    "name": "ipython",
    "version": 3
   },
   "file_extension": ".py",
   "mimetype": "text/x-python",
   "name": "python",
   "nbconvert_exporter": "python",
   "pygments_lexer": "ipython3",
   "version": "3.9.7"
  }
 },
 "nbformat": 4,
 "nbformat_minor": 5
}
